{
 "cells": [
  {
   "cell_type": "code",
   "execution_count": 95,
   "id": "0968bfef",
   "metadata": {},
   "outputs": [],
   "source": [
    "#내가 사용 할 각종 라이브러리\n",
    "import numpy as np\n",
    "import pandas as pd\n",
    "import matplotlib.pyplot as plt\n",
    "%matplotlib inline"
   ]
  },
  {
   "cell_type": "markdown",
   "id": "28131bb5",
   "metadata": {},
   "source": [
    "# 최소 제곱법을 이용해 기울기 'a' 와 y절편의 값 'b'구하기."
   ]
  },
  {
   "cell_type": "code",
   "execution_count": 2,
   "id": "212f49f5",
   "metadata": {},
   "outputs": [],
   "source": [
    "#x와 y값을 임의로 설정 후 리스트에 넣음\n",
    "x = [2,4,6,8]\n",
    "y = [81,93,91,97]"
   ]
  },
  {
   "cell_type": "code",
   "execution_count": 8,
   "id": "bffb2ba3",
   "metadata": {},
   "outputs": [
    {
     "name": "stdout",
     "output_type": "stream",
     "text": [
      "x의 평균값 : 5.0, y의 평균값 : 90.5\n"
     ]
    }
   ],
   "source": [
    "#Numpy의 Mean함수를 사용, Mean은 리스트를 받아와 평균값을 구해주는 함수\n",
    "mx = np.mean(x)\n",
    "my = np.mean(y)\n",
    "print(f'x의 평균값 : {mx}, y의 평균값 : {my}')"
   ]
  },
  {
   "cell_type": "code",
   "execution_count": 32,
   "id": "99ef8566",
   "metadata": {},
   "outputs": [
    {
     "name": "stdout",
     "output_type": "stream",
     "text": [
      "분자 : 46.0\n",
      "     -----\n",
      "분모 : 20.0 \n"
     ]
    }
   ],
   "source": [
    "#기울기 공식의 분모\n",
    "divisor = sum([(mx-i)**2 for i in x])\n",
    "\n",
    "#기울기 공식의 분자를 구하는 식을 함수로 만듦\n",
    "def top(x, mx , y, my):\n",
    "    d = 0\n",
    "    for i in range(len(x)):\n",
    "        d += (x[i] - mx) * (y[i] - my)\n",
    "    return d\n",
    "\n",
    "dividend = top(x,mx,y,my)\n",
    "\n",
    "print(f'분자 : {dividend}\\n     -----\\n분모 : {divisor} ')"
   ]
  },
  {
   "cell_type": "code",
   "execution_count": 27,
   "id": "5e23c87e",
   "metadata": {},
   "outputs": [
    {
     "name": "stdout",
     "output_type": "stream",
     "text": [
      "기울기 a : 2.3, y절편 b :79.0\n"
     ]
    }
   ],
   "source": [
    "#기울기 값 a와 y절편 구하기\n",
    "a = dividend/divisor\n",
    "b = my - (mx*a)\n",
    "\n",
    "print(f'기울기 a : {a}, y절편 b :{b}')"
   ]
  },
  {
   "cell_type": "markdown",
   "id": "b281c04a",
   "metadata": {},
   "source": [
    "# 평균 제곱 오차(Mean Square Error) MSE"
   ]
  },
  {
   "cell_type": "code",
   "execution_count": 66,
   "id": "1c00f925",
   "metadata": {},
   "outputs": [],
   "source": [
    "#임의로 정한 기울기 a, 임의로 정한 y절편 b의 값\n",
    "fake_a_b = [3,76]"
   ]
  },
  {
   "cell_type": "code",
   "execution_count": 67,
   "id": "594ef5e9",
   "metadata": {},
   "outputs": [],
   "source": [
    "#       [공부한 시간, 점수]\n",
    "data = [[2,81],[4,93],[6,91],[8,97]]\n",
    "\n",
    "#x,y의 변수에 각각 data[0]의 값들, data[1]의 값들을 넣어줌\n",
    "x = [i[0] for i in data]\n",
    "y = [i[1] for i in data]"
   ]
  },
  {
   "cell_type": "code",
   "execution_count": 76,
   "id": "498e28e3",
   "metadata": {},
   "outputs": [],
   "source": [
    "#내부 함수의 설정\n",
    "\n",
    "#1차 방정식 y= ax+b를 나타낸것\n",
    "def predict(x):\n",
    "    return fake_a_b[0]*x + fake_a_b[1]\n",
    "\n",
    "#평균 제곱 오차 공식 MSE를 파이썬 함수로 옮긴 모습.\n",
    "def mse(y ,y_hat):\n",
    "    return ((y-y_hat)**2).mean()\n",
    "\n",
    "#mse함수에 데이터를 대입하여 최종 값을 구하는 함수 \n",
    "def mse_val(y, predict_result):\n",
    "    return mse(np.array(y), np.array(predict_result))\n",
    "\n",
    "#예측 값이 들어갈 빈 리스트도 미리 만들어줌\n",
    "predict_result = []"
   ]
  },
  {
   "cell_type": "code",
   "execution_count": 77,
   "id": "8735bba2",
   "metadata": {},
   "outputs": [
    {
     "name": "stdout",
     "output_type": "stream",
     "text": [
      "공부한 시간 : 2, 실제 점수 : 81, 예측 점수 :82\n",
      "공부한 시간 : 4, 실제 점수 : 93, 예측 점수 :88\n",
      "공부한 시간 : 6, 실제 점수 : 91, 예측 점수 :94\n",
      "공부한 시간 : 8, 실제 점수 : 97, 예측 점수 :100\n",
      "\n",
      "MSE 최종값 : 11.0\n"
     ]
    }
   ],
   "source": [
    "#모든 x값을 한 번씩 대입하여 그 결과에 해당하는 predict_result리스트를 완성\n",
    "for i in range(len(x)):\n",
    "    predict_result.append(predict(x[i]))\n",
    "    print(f'공부한 시간 : {x[i]}, 실제 점수 : {y[i]}, 예측 점수 :{predict(x[i])}')\n",
    "    \n",
    "#def mse_val을 이용한 MSE최종값을 출력\n",
    "\n",
    "print(f'\\nMSE 최종값 : {mse_val(predict_result, y)}')\n",
    "\n",
    "#최종값을 통해 알 수 있는것은 처음 가정한 a 3, B 76의 오차가 약 11이라는것을 알게됨.\n",
    "#최종적으로 가장 좋은건 이 오차를 줄이며 새로운 선을 그어야함"
   ]
  },
  {
   "cell_type": "markdown",
   "id": "9a80ac21",
   "metadata": {},
   "source": [
    "## 오차 줄이기 , 경사하강법"
   ]
  },
  {
   "cell_type": "code",
   "execution_count": 153,
   "id": "0c544003",
   "metadata": {},
   "outputs": [
    {
     "data": {
      "image/png": "[encoded data removed]",
      "text/plain": [
       "<Figure size 720x360 with 1 Axes>"
      ]
     },
     "metadata": {
      "needs_background": "light"
     },
     "output_type": "display_data"
    }
   ],
   "source": [
    "#막간 matploilib 사용법\n",
    "plt.figure(1,figsize=(10,5))\n",
    "#x는 공부한 시간, y는 점수 s = int(size), c = Color\n",
    "plt.scatter(x,y,marker='*',s=200,c='red') #딱봐도 뭔지 알겠져? 그냥 점찍기, Plot은 선\n",
    "plt.title('Result test') # 제목\n",
    "plt.ylabel('Score') #y-lebel\n",
    "plt.xlabel('Study Time') #x-label\n",
    "plt.legend(['result']) #범례지정\n",
    "plt.show()"
   ]
  },
  {
   "cell_type": "code",
   "execution_count": 145,
   "id": "59459b88",
   "metadata": {},
   "outputs": [
    {
     "name": "stdout",
     "output_type": "stream",
     "text": [
      "<class 'list'>\n",
      "<class 'numpy.ndarray'>\n"
     ]
    }
   ],
   "source": [
    "#리스트로 되어있는 x와 y값을 넘파이 배열로 바꿈\n",
    "#인덱스를 주어 하나씩 불러와 계산이 가능하게 하기 위함인데\n",
    "#뒤에서 자주 사용하고 헷갈림. 항상 타입을 신경써줘야함.\n",
    "print(type(x))\n",
    "x_data = np.array(x)\n",
    "print(type(x_data))\n",
    "\n",
    "y_data = np.array(y)"
   ]
  },
  {
   "cell_type": "code",
   "execution_count": 146,
   "id": "465bc3e3",
   "metadata": {},
   "outputs": [],
   "source": [
    "#기울기 a와 y절편 b의 값 초기화\n",
    "a = 0; b = 0"
   ]
  },
  {
   "cell_type": "code",
   "execution_count": 147,
   "id": "ac0e50bb",
   "metadata": {},
   "outputs": [],
   "source": [
    "#학습률 Learning rate 정하기\n",
    "lr = 0.03\n",
    "\n",
    "#반복 횟수 epoch를 설정\n",
    "epochs = 2001"
   ]
  },
  {
   "cell_type": "code",
   "execution_count": 148,
   "id": "30a7ed43",
   "metadata": {},
   "outputs": [
    {
     "name": "stdout",
     "output_type": "stream",
     "text": [
      "epoch = 0, 기울기 = 27.8400, 절편 = 5.43\n",
      "epoch = 100, 기울기 = 7.0739, 절편 = 50.51166161138297\n",
      "epoch = 200, 기울기 = 4.0960, 절편 = 68.28224379060177\n",
      "epoch = 300, 기울기 = 2.9757, 절편 = 74.96781336233505\n",
      "epoch = 400, 기울기 = 2.5542, 절편 = 77.48302865233052\n",
      "epoch = 500, 기울기 = 2.3956, 절편 = 78.42929177728175\n",
      "epoch = 600, 기울기 = 2.3360, 절편 = 78.78529068727728\n",
      "epoch = 700, 기울기 = 2.3135, 절편 = 78.91922301600925\n",
      "epoch = 800, 기울기 = 2.3051, 절편 = 78.96961044185792\n",
      "epoch = 900, 기울기 = 2.3019, 절편 = 78.98856697541248\n",
      "epoch = 1000, 기울기 = 2.3007, 절편 = 78.99569871827002\n",
      "epoch = 1100, 기울기 = 2.3003, 절편 = 78.99838179089187\n",
      "epoch = 1200, 기울기 = 2.3001, 절편 = 78.9993912045567\n",
      "epoch = 1300, 기울기 = 2.3000, 절편 = 78.99977096168232\n",
      "epoch = 1400, 기울기 = 2.3000, 절편 = 78.9999138322214\n",
      "epoch = 1500, 기울기 = 2.3000, 절편 = 78.99996758234106\n",
      "epoch = 1600, 기울기 = 2.3000, 절편 = 78.99998780397235\n",
      "epoch = 1700, 기울기 = 2.3000, 절편 = 78.99999541166466\n",
      "epoch = 1800, 기울기 = 2.3000, 절편 = 78.99999827379686\n",
      "epoch = 1900, 기울기 = 2.3000, 절편 = 78.9999993505755\n",
      "epoch = 2000, 기울기 = 2.3000, 절편 = 78.99999975567644\n"
     ]
    }
   ],
   "source": [
    "#경사하강법 시작\n",
    "for i in range(epochs):\n",
    "    y_hat = a * x_data +b # y를 구하는 식\n",
    "    error = y_data - y_hat #오차 구하는 식\n",
    "    \n",
    "    #여기선 Sum이 Sigma와 같은것.\n",
    "    a_diff = -(2/len(x_data) * sum(x_data * (error))) #오차함수를 a로 미분한 값\n",
    "    b_diff = -(2/len(x_data) * sum(error)) #오차함수를 b로 미분한 값\n",
    "\n",
    "    a = a - lr * a_diff #학습률을 곱해 기존의 a값을 업데이트\n",
    "    b = b - lr * b_diff #학습률을 곱해 기존의 b값을 업데이트\n",
    "    \n",
    "    if i % 100 == 0: #100번 반복될 때마다 현재의 epoch , a, b값을 출력\n",
    "        #f - string {변수 : 단위설정}\n",
    "        #https://zetcode.com/python/fstring/\n",
    "        print(f'epoch = {i}, 기울기 = {a:.4f}, 절편 = {b}')"
   ]
  },
  {
   "cell_type": "code",
   "execution_count": 163,
   "id": "ed3c09ce",
   "metadata": {},
   "outputs": [
    {
     "data": {
      "image/png": "[encoded data removed]",
      "text/plain": [
       "<Figure size 720x360 with 1 Axes>"
      ]
     },
     "metadata": {
      "needs_background": "light"
     },
     "output_type": "display_data"
    }
   ],
   "source": [
    "#학습률 0.03에서 반복을 아무리 실행시켜도 기울기와 절편이 2.3 79.0 에서 늘어나지 않음\n",
    "y_pred = a * x_data + b\n",
    "#y = ax + b\n",
    "#(Example) y = 2.3x + 79\n",
    "\n",
    "plt.figure(2,figsize=(10,5))\n",
    "plt.title('lr= 0.03')\n",
    "plt.scatter(x,y)\n",
    "plt.plot([min(x_data), max(x_data)], [min(y_pred),max(y_pred)], c='r')\n",
    "plt.xlabel('StudyTime') ; plt.ylabel('Score')\n",
    "plt.show()"
   ]
  },
  {
   "cell_type": "code",
   "execution_count": null,
   "id": "f7553595",
   "metadata": {},
   "outputs": [],
   "source": []
  }
 ],
 "metadata": {
  "kernelspec": {
   "display_name": "Python 3",
   "language": "python",
   "name": "python3"
  },
  "language_info": {
   "codemirror_mode": {
    "name": "ipython",
    "version": 3
   },
   "file_extension": ".py",
   "mimetype": "text/x-python",
   "name": "python",
   "nbconvert_exporter": "python",
   "pygments_lexer": "ipython3",
   "version": "3.7.2"
  },
  "toc": {
   "base_numbering": 1,
   "nav_menu": {},
   "number_sections": true,
   "sideBar": true,
   "skip_h1_title": false,
   "title_cell": "Table of Contents",
   "title_sidebar": "Contents",
   "toc_cell": false,
   "toc_position": {},
   "toc_section_display": true,
   "toc_window_display": false
  }
 },
 "nbformat": 4,
 "nbformat_minor": 5
}
