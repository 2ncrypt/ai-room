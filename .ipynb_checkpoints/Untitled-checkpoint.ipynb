{
 "cells": [
  {
   "cell_type": "markdown",
   "id": "95a672ba",
   "metadata": {},
   "source": [
    "1. 0<= a =<99\n",
    "2. if a < 10 : 0+a[0] \n"
   ]
  },
  {
   "cell_type": "code",
   "execution_count": 822,
   "id": "28380f4c",
   "metadata": {},
   "outputs": [],
   "source": [
    "# a = []\n",
    "num = 3"
   ]
  },
  {
   "cell_type": "code",
   "execution_count": 823,
   "id": "5ef95cbf",
   "metadata": {},
   "outputs": [],
   "source": [
    "a = []\n",
    "# num = int(input('N값을 입력 \\nN :'))\n",
    "\n",
    "for i in range(1000):\n",
    "    if 0 < num < 10:\n",
    "        a.append(0)\n",
    "        a.append(num) # a[2]\n",
    "        num = a[1]*10 + a[1]\n",
    "        n[i] = num\n",
    "    elif 10 < num < 100:\n",
    "        a = list(map(int, list(str(num)))) # a[1] * 10 \n",
    "        \n",
    "        if sum(a) < 10:\n",
    "            b = [0,sum(a)]\n",
    "        elif 10 <= sum(a):\n",
    "            b = list(map(int, list(str(sum(a)))))\n",
    "            \n",
    "        num = a[1]*10 + b[1]\n",
    "        n.append(num)\n",
    "# num 26\n",
    "# 2+6 = 8 > 68\n",
    "#6+8 = 14 > 84\n",
    "#2+2 = 4 > 6"
   ]
  },
  {
   "cell_type": "code",
   "execution_count": 824,
   "id": "741d09e3",
   "metadata": {},
   "outputs": [
    {
     "data": {
      "text/plain": [
       "[33,\n",
       " 28,\n",
       " 0,\n",
       " 0,\n",
       " 0,\n",
       " 64,\n",
       " 40,\n",
       " 4,\n",
       " 48,\n",
       " 82,\n",
       " 20,\n",
       " 2,\n",
       " 62,\n",
       " 28,\n",
       " 0,\n",
       " 8,\n",
       " 62,\n",
       " 28,\n",
       " 80,\n",
       " 8,\n",
       " 62,\n",
       " 28,\n",
       " 80,\n",
       " 8,\n",
       " 62,\n",
       " 28,\n",
       " 80,\n",
       " 8,\n",
       " 24,\n",
       " 46,\n",
       " 60,\n",
       " 6,\n",
       " 24,\n",
       " 46,\n",
       " 60,\n",
       " 6,\n",
       " 24,\n",
       " 46,\n",
       " 60,\n",
       " 6,\n",
       " 24,\n",
       " 46,\n",
       " 60,\n",
       " 6,\n",
       " 12,\n",
       " 23,\n",
       " 35,\n",
       " 58,\n",
       " 83,\n",
       " 31,\n",
       " 14,\n",
       " 45,\n",
       " 59,\n",
       " 94,\n",
       " 43,\n",
       " 37,\n",
       " 70,\n",
       " 7,\n",
       " 46,\n",
       " 60,\n",
       " 6,\n",
       " 50,\n",
       " 5,\n",
       " 36,\n",
       " 69,\n",
       " 95,\n",
       " 54,\n",
       " 49,\n",
       " 93,\n",
       " 32,\n",
       " 25,\n",
       " 57,\n",
       " 72,\n",
       " 29,\n",
       " 91,\n",
       " 10]"
      ]
     },
     "execution_count": 824,
     "metadata": {},
     "output_type": "execute_result"
    }
   ],
   "source": [
    "n"
   ]
  },
  {
   "cell_type": "code",
   "execution_count": 624,
   "id": "d7615e4c",
   "metadata": {},
   "outputs": [
    {
     "data": {
      "text/plain": [
       "38"
      ]
     },
     "execution_count": 624,
     "metadata": {},
     "output_type": "execute_result"
    }
   ],
   "source": [
    "num = 0\n",
    "a = [1,3]; b = [5,8]\n",
    "num = a[1]*10 + b[1]\n",
    "num"
   ]
  },
  {
   "cell_type": "code",
   "execution_count": 643,
   "id": "4d8fc282",
   "metadata": {},
   "outputs": [
    {
     "name": "stdout",
     "output_type": "stream",
     "text": [
      "[3, 8]\n"
     ]
    },
    {
     "data": {
      "text/plain": [
       "11"
      ]
     },
     "execution_count": 643,
     "metadata": {},
     "output_type": "execute_result"
    }
   ],
   "source": [
    "#38\n",
    "#3+8 = 11\n",
    "# 81\n",
    "a=list(map(int, list(str(num))))\n",
    "b=sum(a)\n",
    "b = list(map(int, list(str(sum(a))))) # b[1]\n",
    "print(a)\n",
    "c\n",
    "# sum(b)\n",
    "# num = a[1]*10 + b[1]"
   ]
  },
  {
   "cell_type": "code",
   "execution_count": 631,
   "id": "16303c8a",
   "metadata": {},
   "outputs": [
    {
     "data": {
      "text/plain": [
       "38"
      ]
     },
     "execution_count": 631,
     "metadata": {},
     "output_type": "execute_result"
    }
   ],
   "source": [
    "num"
   ]
  },
  {
   "cell_type": "code",
   "execution_count": 504,
   "id": "b659257e",
   "metadata": {},
   "outputs": [
    {
     "data": {
      "text/plain": [
       "[7]"
      ]
     },
     "execution_count": 504,
     "metadata": {},
     "output_type": "execute_result"
    }
   ],
   "source": [
    "b"
   ]
  },
  {
   "cell_type": "code",
   "execution_count": 485,
   "id": "5258475b",
   "metadata": {},
   "outputs": [],
   "source": [
    "b=list(map(int, list(str(98))))"
   ]
  },
  {
   "cell_type": "code",
   "execution_count": 486,
   "id": "4b8209ac",
   "metadata": {},
   "outputs": [
    {
     "data": {
      "text/plain": [
       "[9, 8]"
      ]
     },
     "execution_count": 486,
     "metadata": {},
     "output_type": "execute_result"
    }
   ],
   "source": [
    "b"
   ]
  },
  {
   "cell_type": "code",
   "execution_count": 277,
   "id": "24428851",
   "metadata": {},
   "outputs": [
    {
     "data": {
      "text/plain": [
       "4"
      ]
     },
     "execution_count": 277,
     "metadata": {},
     "output_type": "execute_result"
    }
   ],
   "source": [
    "4"
   ]
  },
  {
   "cell_type": "code",
   "execution_count": null,
   "id": "10b28690",
   "metadata": {},
   "outputs": [],
   "source": []
  }
 ],
 "metadata": {
  "kernelspec": {
   "display_name": "Python 3",
   "language": "python",
   "name": "python3"
  },
  "language_info": {
   "codemirror_mode": {
    "name": "ipython",
    "version": 3
   },
   "file_extension": ".py",
   "mimetype": "text/x-python",
   "name": "python",
   "nbconvert_exporter": "python",
   "pygments_lexer": "ipython3",
   "version": "3.7.2"
  },
  "toc": {
   "base_numbering": 1,
   "nav_menu": {},
   "number_sections": true,
   "sideBar": true,
   "skip_h1_title": false,
   "title_cell": "Table of Contents",
   "title_sidebar": "Contents",
   "toc_cell": false,
   "toc_position": {},
   "toc_section_display": true,
   "toc_window_display": false
  }
 },
 "nbformat": 4,
 "nbformat_minor": 5
}
