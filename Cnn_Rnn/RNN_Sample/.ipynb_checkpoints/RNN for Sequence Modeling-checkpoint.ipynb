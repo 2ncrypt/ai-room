{
 "cells": [
  {
   "cell_type": "code",
   "execution_count": 1,
   "metadata": {},
   "outputs": [],
   "source": [
    "import tensorflow as tf"
   ]
  },
  {
   "cell_type": "code",
   "execution_count": 26,
   "metadata": {},
   "outputs": [],
   "source": [
    "tf.random.set_seed(1)\n",
    "rnn_layer = tf.keras.layers.SimpleRNN(units=2,use_bias=True,return_sequences=True)"
   ]
  },
  {
   "cell_type": "code",
   "execution_count": 27,
   "metadata": {},
   "outputs": [],
   "source": [
    "rnn_layer.build(input_shape=(None,None,5))"
   ]
  },
  {
   "cell_type": "code",
   "execution_count": 28,
   "metadata": {},
   "outputs": [],
   "source": [
    "w_xh, w_oo, b_h = rnn_layer.weights"
   ]
  },
  {
   "cell_type": "code",
   "execution_count": 29,
   "metadata": {},
   "outputs": [
    {
     "name": "stdout",
     "output_type": "stream",
     "text": [
      "W_xh Size : (5, 2)\n",
      "W_oo Size : (2, 2)\n",
      "b_h Size : (2,)\n"
     ]
    }
   ],
   "source": [
    "print(f'W_xh Size : {w_xh.shape}')\n",
    "print(f'W_oo Size : {w_oo.shape}')\n",
    "print(f'b_h Size : {b_h.shape}')"
   ]
  },
  {
   "cell_type": "code",
   "execution_count": 30,
   "metadata": {},
   "outputs": [],
   "source": [
    "x_seq = tf.convert_to_tensor([[1.0]*5,[2.0]*5, [3.0]*5],dtype=tf.float32)"
   ]
  },
  {
   "cell_type": "code",
   "execution_count": 31,
   "metadata": {},
   "outputs": [],
   "source": [
    "output = rnn_layer(tf.reshape(x_seq,shape=(1,3,5)))\n",
    "out_man = []"
   ]
  },
  {
   "cell_type": "code",
   "execution_count": 44,
   "metadata": {},
   "outputs": [
    {
     "name": "stdout",
     "output_type": "stream",
     "text": [
      "Time Step : 0 =>\n",
      "input             : [[1. 1. 1. 1. 1.]]\n",
      "Hide              : [[0.41464037 0.96012145]]\n",
      "OutPut(Self)      : [[0.39240566 0.74433106]]\n",
      "Simple RNN Output : [0.39240566 0.74433106] \n",
      "\n",
      "Time Step : 1 =>\n",
      "input             : [[2. 2. 2. 2. 2.]]\n",
      "Hide              : [[0.82928073 1.9202429 ]]\n",
      "OutPut(Self)      : [[0.68008965 0.9579373 ]]\n",
      "Simple RNN Output : [0.80116504 0.9912947 ] \n",
      "\n",
      "Time Step : 2 =>\n",
      "input             : [[3. 3. 3. 3. 3.]]\n",
      "Hide              : [[1.243921  2.8803642]]\n",
      "OutPut(Self)      : [[0.8465702  0.99372214]]\n",
      "Simple RNN Output : [0.95468265 0.9993069 ] \n",
      "\n"
     ]
    }
   ],
   "source": [
    "for t in range(len(x_seq)):\n",
    "    xt = tf.reshape(x_seq[t],(1,5))\n",
    "    print(f'Time Step : {t} =>')\n",
    "    print(f'input             : {xt.numpy()}')\n",
    "    \n",
    "    ht = tf.matmul(xt, w_xh) + b_h\n",
    "    print(f'Hide              : {ht.numpy()}')\n",
    "    \n",
    "    if t < 0:\n",
    "        prev_o = out_man[t-1]\n",
    "    else:\n",
    "        prev_o = tf.zeros(shape=(ht.shape))\n",
    "            \n",
    "    ot = ht + tf.matmul(prev_o, w_oo)\n",
    "    ot = tf.math.tanh(ot)\n",
    "    print(f'OutPut(Self)      : {ot.numpy()}')\n",
    "    print(f'Simple RNN Output : {output[0][t].numpy()} ')\n",
    "    \n",
    "    print()"
   ]
  },
  {
   "cell_type": "code",
   "execution_count": null,
   "metadata": {},
   "outputs": [],
   "source": []
  }
 ],
 "metadata": {
  "kernelspec": {
   "display_name": "Python 3",
   "language": "python",
   "name": "python3"
  },
  "language_info": {
   "codemirror_mode": {
    "name": "ipython",
    "version": 3
   },
   "file_extension": ".py",
   "mimetype": "text/x-python",
   "name": "python",
   "nbconvert_exporter": "python",
   "pygments_lexer": "ipython3",
   "version": "3.7.2"
  },
  "toc": {
   "base_numbering": 1,
   "nav_menu": {},
   "number_sections": true,
   "sideBar": true,
   "skip_h1_title": false,
   "title_cell": "Table of Contents",
   "title_sidebar": "Contents",
   "toc_cell": false,
   "toc_position": {},
   "toc_section_display": true,
   "toc_window_display": false
  }
 },
 "nbformat": 4,
 "nbformat_minor": 4
}
