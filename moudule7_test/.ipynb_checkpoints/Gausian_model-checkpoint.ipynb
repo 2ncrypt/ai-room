{
 "cells": [
  {
   "cell_type": "code",
   "execution_count": 22,
   "id": "1663ffd3",
   "metadata": {},
   "outputs": [],
   "source": [
    "import numpy as np\n",
    "import matplotlib.pyplot as plt\n",
    "from mpl_toolkits.mplot3d import axis3d\n",
    "%matplotlib inline"
   ]
  },
  {
   "cell_type": "code",
   "execution_count": 19,
   "id": "2ebebce4",
   "metadata": {},
   "outputs": [],
   "source": [
    "np.random.seed(1)\n",
    "N = 100\n",
    "K = 3\n",
    "T3 = np.zeros((N,3),dtype=np.uint8)\n",
    "\n",
    "X = np.zeros((N,2))\n",
    "X_range0 = [-3,3]\n",
    "X_range1 = [-3,3]\n",
    "# X_col = ['cornflowerblue','black','white']\n",
    "\n",
    "N = X.shape[0]\n",
    "Pi = np.array([0.33,0.33,0.34])\n",
    "Mu = np.array([[-2,1],[-2,0],[-2,-1]])\n",
    "Sigma = np.array([[[1,0],[0,1]],[[1,0],[0,1]],[[1,0],[0,1]]])\n",
    "Gamma = np.c_[np.ones((N,1)),np.zeros((N,2))]\n",
    "\n",
    "X_col = np.array([[0.4 ,0.6,0.95],[1,1,1],[0,0,0]])"
   ]
  },
  {
   "cell_type": "code",
   "execution_count": 23,
   "id": "b999c28b",
   "metadata": {},
   "outputs": [],
   "source": [
    "def show_contour_mixgauss(pi,mu,sigma):\n",
    "    xn = 40\n",
    "    x0 = np.linspace(X_range0[0], x_range0[1], xn)\n",
    "    x1 = np.linspace(X_range1[0], x_range1[1], xn)\n",
    "    xx0, xx1 = np.meshgird(x0,x1)\n",
    "    x = np.c_(np.reshape(xx0, xn * xn,f), np.reshape(xx1,)"
   ]
  },
  {
   "cell_type": "code",
   "execution_count": 20,
   "id": "f7ad8977",
   "metadata": {},
   "outputs": [],
   "source": [
    "#데이터 그리기\n",
    "def show_mixgauss_prm(x, gamma, pi,mu,sigma):\n",
    "    N, D = x.shape\n",
    "    show_contour_mixgauss(po,mu,sigma) #등고선 표시 함수\n",
    "    \n",
    "    for n in range(N):\n",
    "        col=gamma[n,0]*X_col[0]+gamma[n,1]*X_col[1]+gamma[n,2]*X_col[2]\n",
    "        plt.plot(x[n,0],[n,1],'o',color=tuple(col),markeredgecolor='black',markersize=6, alpha=0.5)\n",
    "        \n",
    "    for k in range(K):\n",
    "        plt.plot(mu[k,0], mu[k,1],marker='*',markerfacecolor=tuple(x_col[K]), markersize=15,markeredgecolor='k',markeredgewidth=1)\n",
    "        \n",
    "    plt.grid(True)"
   ]
  },
  {
   "cell_type": "code",
   "execution_count": 21,
   "id": "66d60d91",
   "metadata": {},
   "outputs": [
    {
     "ename": "NameError",
     "evalue": "name 'show_contour_mixgauss' is not defined",
     "output_type": "error",
     "traceback": [
      "\u001b[0;31m---------------------------------------------------------------------------\u001b[0m",
      "\u001b[0;31mNameError\u001b[0m                                 Traceback (most recent call last)",
      "\u001b[0;32m<ipython-input-21-82fe12c4f368>\u001b[0m in \u001b[0;36m<module>\u001b[0;34m\u001b[0m\n\u001b[1;32m      1\u001b[0m \u001b[0mplt\u001b[0m\u001b[0;34m.\u001b[0m\u001b[0mfigure\u001b[0m\u001b[0;34m(\u001b[0m\u001b[0;36m1\u001b[0m\u001b[0;34m,\u001b[0m\u001b[0mfigsize\u001b[0m\u001b[0;34m=\u001b[0m\u001b[0;34m(\u001b[0m\u001b[0;36m4\u001b[0m\u001b[0;34m,\u001b[0m\u001b[0;36m4\u001b[0m\u001b[0;34m)\u001b[0m\u001b[0;34m)\u001b[0m\u001b[0;34m\u001b[0m\u001b[0;34m\u001b[0m\u001b[0m\n\u001b[0;32m----> 2\u001b[0;31m \u001b[0mshow_mixgauss_prm\u001b[0m\u001b[0;34m(\u001b[0m\u001b[0mX\u001b[0m\u001b[0;34m,\u001b[0m \u001b[0mGamma\u001b[0m\u001b[0;34m,\u001b[0m \u001b[0mPi\u001b[0m\u001b[0;34m,\u001b[0m \u001b[0mMu\u001b[0m\u001b[0;34m,\u001b[0m \u001b[0mSigma\u001b[0m\u001b[0;34m)\u001b[0m\u001b[0;34m\u001b[0m\u001b[0;34m\u001b[0m\u001b[0m\n\u001b[0m",
      "\u001b[0;32m<ipython-input-20-ead45ba23525>\u001b[0m in \u001b[0;36mshow_mixgauss_prm\u001b[0;34m(x, gamma, pi, mu, sigma)\u001b[0m\n\u001b[1;32m      2\u001b[0m \u001b[0;32mdef\u001b[0m \u001b[0mshow_mixgauss_prm\u001b[0m\u001b[0;34m(\u001b[0m\u001b[0mx\u001b[0m\u001b[0;34m,\u001b[0m \u001b[0mgamma\u001b[0m\u001b[0;34m,\u001b[0m \u001b[0mpi\u001b[0m\u001b[0;34m,\u001b[0m\u001b[0mmu\u001b[0m\u001b[0;34m,\u001b[0m\u001b[0msigma\u001b[0m\u001b[0;34m)\u001b[0m\u001b[0;34m:\u001b[0m\u001b[0;34m\u001b[0m\u001b[0;34m\u001b[0m\u001b[0m\n\u001b[1;32m      3\u001b[0m     \u001b[0mN\u001b[0m\u001b[0;34m,\u001b[0m \u001b[0mD\u001b[0m \u001b[0;34m=\u001b[0m \u001b[0mx\u001b[0m\u001b[0;34m.\u001b[0m\u001b[0mshape\u001b[0m\u001b[0;34m\u001b[0m\u001b[0;34m\u001b[0m\u001b[0m\n\u001b[0;32m----> 4\u001b[0;31m     \u001b[0mshow_contour_mixgauss\u001b[0m\u001b[0;34m(\u001b[0m\u001b[0mpo\u001b[0m\u001b[0;34m,\u001b[0m\u001b[0mmu\u001b[0m\u001b[0;34m,\u001b[0m\u001b[0msigma\u001b[0m\u001b[0;34m)\u001b[0m \u001b[0;31m#등고선 표시 함수\u001b[0m\u001b[0;34m\u001b[0m\u001b[0;34m\u001b[0m\u001b[0m\n\u001b[0m\u001b[1;32m      5\u001b[0m \u001b[0;34m\u001b[0m\u001b[0m\n\u001b[1;32m      6\u001b[0m     \u001b[0;32mfor\u001b[0m \u001b[0mn\u001b[0m \u001b[0;32min\u001b[0m \u001b[0mrange\u001b[0m\u001b[0;34m(\u001b[0m\u001b[0mN\u001b[0m\u001b[0;34m)\u001b[0m\u001b[0;34m:\u001b[0m\u001b[0;34m\u001b[0m\u001b[0;34m\u001b[0m\u001b[0m\n",
      "\u001b[0;31mNameError\u001b[0m: name 'show_contour_mixgauss' is not defined"
     ]
    },
    {
     "data": {
      "text/plain": [
       "<Figure size 288x288 with 0 Axes>"
      ]
     },
     "metadata": {},
     "output_type": "display_data"
    }
   ],
   "source": [
    "plt.figure(1,figsize=(4,4))\n",
    "show_mixgauss_prm(X, Gamma, Pi, Mu, Sigma)"
   ]
  },
  {
   "cell_type": "code",
   "execution_count": null,
   "id": "4c520ffb",
   "metadata": {},
   "outputs": [],
   "source": []
  }
 ],
 "metadata": {
  "kernelspec": {
   "display_name": "Python 3",
   "language": "python",
   "name": "python3"
  },
  "language_info": {
   "codemirror_mode": {
    "name": "ipython",
    "version": 3
   },
   "file_extension": ".py",
   "mimetype": "text/x-python",
   "name": "python",
   "nbconvert_exporter": "python",
   "pygments_lexer": "ipython3",
   "version": "3.7.2"
  },
  "toc": {
   "base_numbering": 1,
   "nav_menu": {},
   "number_sections": true,
   "sideBar": true,
   "skip_h1_title": false,
   "title_cell": "Table of Contents",
   "title_sidebar": "Contents",
   "toc_cell": false,
   "toc_position": {},
   "toc_section_display": true,
   "toc_window_display": false
  }
 },
 "nbformat": 4,
 "nbformat_minor": 5
}
