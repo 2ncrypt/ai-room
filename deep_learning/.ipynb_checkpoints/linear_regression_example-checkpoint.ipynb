{
 "cells": [
  {
   "cell_type": "code",
   "execution_count": 44,
   "id": "6849be7a",
   "metadata": {},
   "outputs": [],
   "source": [
    "import numpy as np\n",
    "import matplotlib.pyplot as plt\n",
    "import tensorflow as tf\n",
    "\n",
    "x = [2,4,6,8]\n",
    "y = [81,93,91,97]"
   ]
  },
  {
   "cell_type": "code",
   "execution_count": 45,
   "id": "99da533c",
   "metadata": {},
   "outputs": [
    {
     "name": "stdout",
     "output_type": "stream",
     "text": [
      "mx : 5.0 , my : 90.5\n"
     ]
    }
   ],
   "source": [
    "mx = np.mean(x) #Value여기서는 리스트의 모든 원소 평균을 구하는 넘파이 함수 mean\n",
    "my = np.mean(y)\n",
    "\n",
    "print(f'mx : {mx} , my : {my}')"
   ]
  },
  {
   "cell_type": "code",
   "execution_count": 46,
   "id": "f967e32f",
   "metadata": {},
   "outputs": [
    {
     "name": "stdout",
     "output_type": "stream",
     "text": [
      "기울기 공식의 분모 : 20.0\n"
     ]
    }
   ],
   "source": [
    "divisor = sum([(i-mx)**2 for i in x])\n",
    "#list_arr = []\n",
    "# for i in x:\n",
    "#     a = sum(i-mx)**2\n",
    "#.    list_arr.append(a)\n",
    "#.    divisor = sum(list_arr)\n",
    "print(f'기울기 공식의 분모 : {divisor}')\n",
    "#x의 각 원소와 x의 평균값들의 차를 제곱하는 식\n",
    "#기울기 공식의 분모"
   ]
  },
  {
   "cell_type": "code",
   "execution_count": 47,
   "id": "47aab28c",
   "metadata": {},
   "outputs": [],
   "source": [
    "#기울기 공식의 분자\n",
    "def top( x , mx, y, my):\n",
    "    d = 0\n",
    "    for i in range(len(x)):\n",
    "        d += (x[i] - mx)* (y[i] - my)\n",
    "    return d\n",
    "dividend = top(x, mx, y, my)"
   ]
  },
  {
   "cell_type": "code",
   "execution_count": 48,
   "id": "bc6222b9",
   "metadata": {},
   "outputs": [
    {
     "name": "stdout",
     "output_type": "stream",
     "text": [
      "분모 :20.0  분자 :46.0 \n"
     ]
    }
   ],
   "source": [
    "print(f'분모 :{divisor}  분자 :{dividend} ')"
   ]
  },
  {
   "cell_type": "code",
   "execution_count": 49,
   "id": "2c765206",
   "metadata": {},
   "outputs": [
    {
     "name": "stdout",
     "output_type": "stream",
     "text": [
      "기울기 a : 2.3 , y절편 b : 79.0\n"
     ]
    }
   ],
   "source": [
    "#기울기와 y절편 구하기\n",
    "a = dividend/divisor\n",
    "b = my - (mx * a)\n",
    "\n",
    "print(f'기울기 a : {a} , y절편 b : {b}')\n",
    "# y = 2.3x + 79 \n",
    "# 예측 값을 구하기 위한 직선의 방정식"
   ]
  },
  {
   "cell_type": "code",
   "execution_count": 64,
   "id": "1aa47965",
   "metadata": {},
   "outputs": [
    {
     "data": {
      "text/plain": [
       "<matplotlib.legend.Legend at 0x7fd8ef9aa0f0>"
      ]
     },
     "execution_count": 64,
     "metadata": {},
     "output_type": "execute_result"
    },
    {
     "data": {
      "image/png": "[encoded data removed]",
      "text/plain": [
       "<Figure size 432x288 with 1 Axes>"
      ]
     },
     "metadata": {
      "needs_background": "light"
     },
     "output_type": "display_data"
    }
   ],
   "source": [
    "#회귀그래프 그려보기\n",
    "#1번 방법\n",
    "# predict = []\n",
    "# for i in x:\n",
    "#     predict.append((a*i)+ b)\n",
    "\n",
    "#2번 방법\n",
    "predict = [(a*i)+b for i in x]\n",
    "\n",
    "plt.scatter(x,y,label='study')\n",
    "plt.plot(x, predict, c='r',label = 'predict')\n",
    "plt.legend()"
   ]
  },
  {
   "cell_type": "code",
   "execution_count": 72,
   "id": "c99ed190",
   "metadata": {},
   "outputs": [],
   "source": [
    "fake_a_b = [3,76]\n",
    "data = [[2,81],[4,93],[6,91],[8,97]]\n",
    "\n",
    "x = [i[0] for i in data]\n",
    "y = [i[1] for i in data]"
   ]
  },
  {
   "cell_type": "code",
   "execution_count": 88,
   "id": "9dbf3dd4",
   "metadata": {},
   "outputs": [
    {
     "name": "stdout",
     "output_type": "stream",
     "text": [
      "28182\n",
      "49388\n",
      "69194\n",
      "897100\n",
      "11.0\n"
     ]
    }
   ],
   "source": [
    "def predict(x):\n",
    "    return fake_a_b[0]*x + fake_a_b[1]\n",
    "\n",
    "def mse(y, y_hat):\n",
    "    return ((y-y_hat)**2).mean()\n",
    "\n",
    "def mse_val(y, predict_result):\n",
    "    return mse(np.array(y), np.array(predict_result))\n",
    "\n",
    "predict_result = []\n",
    "\n",
    "for i in range(len(x)):\n",
    "    predict_result.append(predict(x[i]))\n",
    "    print(f'{x[i]}{y[i]}{predict(x[i])}')\n",
    "    \n",
    "print(str(mse_val(predict_result,y)))"
   ]
  },
  {
   "cell_type": "code",
   "execution_count": null,
   "id": "0efdb5fc",
   "metadata": {},
   "outputs": [],
   "source": [
    "import cv2"
   ]
  },
  {
   "cell_type": "code",
   "execution_count": null,
   "id": "489147b4",
   "metadata": {},
   "outputs": [],
   "source": [
    "cv2.__version__"
   ]
  }
 ],
 "metadata": {
  "kernelspec": {
   "display_name": "Python 3",
   "language": "python",
   "name": "python3"
  },
  "language_info": {
   "codemirror_mode": {
    "name": "ipython",
    "version": 3
   },
   "file_extension": ".py",
   "mimetype": "text/x-python",
   "name": "python",
   "nbconvert_exporter": "python",
   "pygments_lexer": "ipython3",
   "version": "3.7.2"
  },
  "toc": {
   "base_numbering": 1,
   "nav_menu": {},
   "number_sections": true,
   "sideBar": true,
   "skip_h1_title": false,
   "title_cell": "Table of Contents",
   "title_sidebar": "Contents",
   "toc_cell": false,
   "toc_position": {},
   "toc_section_display": true,
   "toc_window_display": false
  }
 },
 "nbformat": 4,
 "nbformat_minor": 5
}
