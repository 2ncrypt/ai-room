{
 "cells": [
  {
   "cell_type": "code",
   "execution_count": 2,
   "id": "45abd98a",
   "metadata": {},
   "outputs": [
    {
     "data": {
      "image/png": "[encoded data removed]",
      "text/plain": [
       "<Figure size 576x360 with 1 Axes>"
      ]
     },
     "metadata": {
      "needs_background": "light"
     },
     "output_type": "display_data"
    }
   ],
   "source": [
    "import numpy as np\n",
    "import pandas as pd\n",
    "import matplotlib.pyplot as plt\n",
    "\n",
    "data = [[2,81],[4,93],[6,91],[8,97]]\n",
    "x = [i[0] for i in data]\n",
    "y = [i[1] for i in data]\n",
    "\n",
    "#그래프로 점 찍어보는거\n",
    "plt.figure(figsize=(8,5))\n",
    "plt.scatter(x,y)\n",
    "plt.show()"
   ]
  },
  {
   "cell_type": "code",
   "execution_count": 34,
   "id": "551f8955",
   "metadata": {},
   "outputs": [
    {
     "name": "stdout",
     "output_type": "stream",
     "text": [
      "epoch = 0 기울기 =27.84 절편 =5.43\n",
      "epoch = 100 기울기 =7.073858435872394 절편 =50.51166161138297\n",
      "epoch = 200 기울기 =4.095999380762421 절편 =68.28224379060177\n",
      "epoch = 300 기울기 =2.9756829100119027 절편 =74.96781336233505\n",
      "epoch = 400 기울기 =2.5542024233262106 절편 =77.48302865233052\n",
      "epoch = 500 기울기 =2.3956349066513707 절편 =78.42929177728175\n",
      "epoch = 600 기울기 =2.3359793398132864 절편 =78.78529068727728\n",
      "epoch = 700 기울기 =2.313535987420573 절편 =78.91922301600925\n",
      "epoch = 800 기울기 =2.3050924490666174 절편 =78.96961044185792\n",
      "epoch = 900 기울기 =2.3019158585694823 절편 =78.98856697541248\n",
      "epoch = 1000 기울기 =2.3007207758016315 절편 =78.99569871827002\n",
      "epoch = 1100 기울기 =2.300271167070735 절편 =78.99838179089187\n",
      "epoch = 1200 기울기 =2.3001020172709508 절편 =78.9993912045567\n",
      "epoch = 1300 기울기 =2.300038380484562 절편 =78.99977096168232\n",
      "epoch = 1400 기울기 =2.3000144393354365 절편 =78.9999138322214\n",
      "epoch = 1500 기울기 =2.3000054323026444 절편 =78.99996758234106\n",
      "epoch = 1600 기울기 =2.300002043716771 절편 =78.99998780397235\n",
      "epoch = 1700 기울기 =2.3000007688780433 절편 =78.99999541166466\n",
      "epoch = 1800 기울기 =2.300000289263884 절편 =78.99999827379686\n",
      "epoch = 1900 기울기 =2.3000001088255795 절편 =78.9999993505755\n",
      "epoch = 2000 기울기 =2.3000000409418653 절편 =78.99999975567644\n"
     ]
    }
   ],
   "source": [
    "#리스트로 되어있는 x와 y값을 학습을 위해 넘파이 배열로 바꾸어줌.\n",
    "#인덱스를 주어 하나씩 불러와 계산이 가능해 지도록 하기 위함.\n",
    "x_data = np.array(x)\n",
    "y_data = np.array(y)\n",
    "\n",
    "#기울기 a와 절편 b의 값을 초기화\n",
    "a = 0\n",
    "b = 0\n",
    "\n",
    "#학습률 0.03 learning rate\n",
    "lr = 0.03\n",
    "\n",
    "#몇 번 반복될지 설정함. 여기선 경사하강법 횟수\n",
    "epochs = 2001\n",
    "\n",
    "#경사하강법 시작\n",
    "for i in range(epochs):\n",
    "    y_hat = a * x_data +b # y를 구하는 식\n",
    "    error = y_data - y_hat #오차 구하는 식\n",
    "    a_diff = -(2/len(x_data) * sum(x_data * (error))) #오차함수를 a로 미분한 값\n",
    "    b_diff = -(2/len(x_data) * sum(error)) #오차함수를 b로 미분한 값\n",
    "    ##여기선 Sum이 Sigma와 같은것.\n",
    "    a = a - lr * a_diff #학습률을 곱해 기존의 a값을 업데이트\n",
    "    b = b - lr * b_diff #학습률을 곱해 기존의 b값을 업데이트\n",
    "    if i % 100 == 0: #100번 반복될 때마다 현재의 epoch , a, b값을 출력\n",
    "        print(f'epoch = {i} 기울기 ={a} 절편 ={b}')\n",
    "\n",
    "#어떻게 optimizing 하냐에 따라서 최적의 학습을 구할수있음."
   ]
  },
  {
   "cell_type": "code",
   "execution_count": 39,
   "id": "b22a7a90",
   "metadata": {},
   "outputs": [
    {
     "data": {
      "image/png": "[encoded data removed]",
      "text/plain": [
       "<Figure size 432x288 with 1 Axes>"
      ]
     },
     "metadata": {
      "needs_background": "light"
     },
     "output_type": "display_data"
    }
   ],
   "source": [
    "#학습률 0.03에서 반복을 아무리 실행시켜도 기울기와 절편이 2.3 79.0 에서 늘어나지 않음\n",
    "##별도 테스트로 학습률을 0.01~0.03 그리고 epoch를 2001~50001까지 해보았지만\n",
    "##기울기 절편은 2.3 79로 동일\n",
    "\n",
    "y_pred = a * x_data + b\n",
    "plt.scatter(x,y)\n",
    "plt.plot([min(x_data), max(x_data)], [min(y_pred),max(y_pred)], c='r')\n",
    "plt.show()\n",
    "#y = ax + b\n",
    "#y = 2.3x + 79\n",
    "# 공부한 시간 = x , 성적 = y"
   ]
  },
  {
   "cell_type": "code",
   "execution_count": null,
   "id": "95bab96d",
   "metadata": {},
   "outputs": [],
   "source": []
  }
 ],
 "metadata": {
  "kernelspec": {
   "display_name": "Python 3",
   "language": "python",
   "name": "python3"
  },
  "language_info": {
   "codemirror_mode": {
    "name": "ipython",
    "version": 3
   },
   "file_extension": ".py",
   "mimetype": "text/x-python",
   "name": "python",
   "nbconvert_exporter": "python",
   "pygments_lexer": "ipython3",
   "version": "3.7.2"
  },
  "toc": {
   "base_numbering": 1,
   "nav_menu": {},
   "number_sections": true,
   "sideBar": true,
   "skip_h1_title": false,
   "title_cell": "Table of Contents",
   "title_sidebar": "Contents",
   "toc_cell": false,
   "toc_position": {},
   "toc_section_display": true,
   "toc_window_display": false
  }
 },
 "nbformat": 4,
 "nbformat_minor": 5
}
