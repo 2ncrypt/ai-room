{
 "cells": [
  {
   "cell_type": "code",
   "execution_count": 5,
   "id": "a09e10dd",
   "metadata": {},
   "outputs": [
    {
     "name": "stdout",
     "output_type": "stream",
     "text": [
      "[0 0 0 1]\n"
     ]
    }
   ],
   "source": [
    "from sklearn.linear_model import Perceptron\n",
    "\n",
    "X = [[0,0],[0,1],[1,0],[1,1]]\n",
    "y = [0,0,0,1]\n",
    "#이거 2가지 END연산\n",
    "\n",
    "clf = Perceptron(tol=1e-3, random_state=0)\n",
    "#1e-3 = 0.001\n",
    "#random_state는 난수의 시드값.\n",
    "clf.fit(X,y)\n",
    "\n",
    "print(clf.predict(X))"
   ]
  },
  {
   "cell_type": "markdown",
   "id": "c5294e92",
   "metadata": {},
   "source": [
    "#분류평가 방법 정확도, 정밀도, 재현율\n",
    "#https://ek-koh.github.io/data%20analysis/evaluation/"
   ]
  },
  {
   "cell_type": "code",
   "execution_count": 8,
   "id": "f6835860",
   "metadata": {},
   "outputs": [],
   "source": [
    "import numpy as np\n",
    "\n",
    "w11 = np.array([-2, -2])\n",
    "w12 = np.array([2,2])\n",
    "w2 = np.array([1,1])\n",
    "b1 = 3\n",
    "b2 = -1\n",
    "b3 = -1\n"
   ]
  },
  {
   "cell_type": "code",
   "execution_count": 15,
   "id": "f6e9d609",
   "metadata": {},
   "outputs": [],
   "source": [
    "#퍼셉트론\n",
    "def MLP(x,w,b):\n",
    "    y = np.sum(w*x) +b\n",
    "    if y <= 0 :\n",
    "        return 0\n",
    "    else :\n",
    "        return 1\n",
    "\n"
   ]
  },
  {
   "cell_type": "code",
   "execution_count": 11,
   "id": "1522e4d8",
   "metadata": {},
   "outputs": [],
   "source": [
    "# NAND 게이트\n",
    "def NAND(x1, x2):\n",
    "    return MLP(np.array([x1, x2]), w11, b1)\n",
    "# OR 게이트\n",
    "def OR(x1, x2):\n",
    "    return MLP(np.array([x1, x2]), w12, b2)\n",
    "# AND 게이트\n",
    "def AND(x1, x2):\n",
    "    return MLP(np.array([x1, x2]),w2 , b3)\n",
    "# XOR 게이트\n",
    "def XOR(x1, x2):\n",
    "    return AND(NAND(x1, x2), OR(x1, x2))\n"
   ]
  },
  {
   "cell_type": "code",
   "execution_count": 17,
   "id": "c19bd9a0",
   "metadata": {},
   "outputs": [
    {
     "name": "stdout",
     "output_type": "stream",
     "text": [
      "입력 값 : (0, 0)  출력 값 : 0\n",
      "입력 값 : (1, 0)  출력 값 : 1\n",
      "입력 값 : (0, 1)  출력 값 : 1\n",
      "입력 값 : (1, 1)  출력 값 : 0\n"
     ]
    }
   ],
   "source": [
    "#은닉층을 만들어 XOR문제 해결\n",
    "if __name__ == '__main__':\n",
    "    for x in [(0,0),(1,0),(0,1),(1,1)]:\n",
    "        y = XOR(x[0], x[1])\n",
    "        print(\"입력 값 : \"+ str(x) + \"  출력 값 : \" + str(y))"
   ]
  },
  {
   "cell_type": "code",
   "execution_count": null,
   "id": "990a6e7e",
   "metadata": {},
   "outputs": [],
   "source": []
  }
 ],
 "metadata": {
  "kernelspec": {
   "display_name": "Python 3",
   "language": "python",
   "name": "python3"
  },
  "language_info": {
   "codemirror_mode": {
    "name": "ipython",
    "version": 3
   },
   "file_extension": ".py",
   "mimetype": "text/x-python",
   "name": "python",
   "nbconvert_exporter": "python",
   "pygments_lexer": "ipython3",
   "version": "3.7.2"
  },
  "toc": {
   "base_numbering": 1,
   "nav_menu": {},
   "number_sections": true,
   "sideBar": true,
   "skip_h1_title": false,
   "title_cell": "Table of Contents",
   "title_sidebar": "Contents",
   "toc_cell": false,
   "toc_position": {},
   "toc_section_display": true,
   "toc_window_display": false
  }
 },
 "nbformat": 4,
 "nbformat_minor": 5
}
