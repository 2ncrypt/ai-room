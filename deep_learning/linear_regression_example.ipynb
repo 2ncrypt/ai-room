{
 "cells": [
  {
   "cell_type": "code",
   "execution_count": 1,
   "id": "3c8f5dd1",
   "metadata": {},
   "outputs": [],
   "source": [
    "import numpy as np\n",
    "\n",
    "x = [2,4,6,8]\n",
    "y = [81, 93,91, 97]"
   ]
  },
  {
   "cell_type": "code",
   "execution_count": 6,
   "id": "519df642",
   "metadata": {},
   "outputs": [
    {
     "name": "stdout",
     "output_type": "stream",
     "text": [
      "mx : 5.0 , my : 90.5\n"
     ]
    }
   ],
   "source": [
    "mx = np.mean(x) #Value여기서는 리스트의 모든 원소 평균을 구하는 넘파이 함수 mean\n",
    "my = np.mean(y)\n",
    "\n",
    "print(f'mx : {mx} , my : {my}')"
   ]
  },
  {
   "cell_type": "code",
   "execution_count": 7,
   "id": "1243540a",
   "metadata": {},
   "outputs": [],
   "source": [
    "divisor = sum([(i-mx)**2 for i in x])\n",
    "#x의 각 원소와 x의 평균값들의 차를 제곱하는 식\n",
    "#기울기 공식의 분모"
   ]
  },
  {
   "cell_type": "code",
   "execution_count": 8,
   "id": "2f9fe83e",
   "metadata": {},
   "outputs": [],
   "source": [
    "#기울기 공식의 분자\n",
    "def top( x , mx, y, my):\n",
    "    d = 0\n",
    "    for i in range(len(x)):\n",
    "        d += (x[i] - mx)* (y[i] - my)\n",
    "    return d\n",
    "dividend = top(x, mx, y, my)"
   ]
  },
  {
   "cell_type": "code",
   "execution_count": 9,
   "id": "c5d67fcf",
   "metadata": {},
   "outputs": [
    {
     "name": "stdout",
     "output_type": "stream",
     "text": [
      "분모 :20.0  분자 :46.0 \n"
     ]
    }
   ],
   "source": [
    "print(f'분모 :{divisor}  분자 :{dividend} ')"
   ]
  },
  {
   "cell_type": "code",
   "execution_count": 12,
   "id": "203c18d9",
   "metadata": {},
   "outputs": [
    {
     "name": "stdout",
     "output_type": "stream",
     "text": [
      "기울기 a : 2.3 , y절편 b : 79.0\n"
     ]
    }
   ],
   "source": [
    "#기울기와 y절편 구하기\n",
    "a = dividend/divisor\n",
    "b = my - (mx * a)\n",
    "\n",
    "print(f'기울기 a : {a} , y절편 b : {b}')"
   ]
  },
  {
   "cell_type": "code",
   "execution_count": null,
   "id": "9284adf9",
   "metadata": {},
   "outputs": [],
   "source": []
  }
 ],
 "metadata": {
  "kernelspec": {
   "display_name": "Python 3",
   "language": "python",
   "name": "python3"
  },
  "language_info": {
   "codemirror_mode": {
    "name": "ipython",
    "version": 3
   },
   "file_extension": ".py",
   "mimetype": "text/x-python",
   "name": "python",
   "nbconvert_exporter": "python",
   "pygments_lexer": "ipython3",
   "version": "3.7.2"
  },
  "toc": {
   "base_numbering": 1,
   "nav_menu": {},
   "number_sections": true,
   "sideBar": true,
   "skip_h1_title": false,
   "title_cell": "Table of Contents",
   "title_sidebar": "Contents",
   "toc_cell": false,
   "toc_position": {},
   "toc_section_display": true,
   "toc_window_display": false
  }
 },
 "nbformat": 4,
 "nbformat_minor": 5
}
