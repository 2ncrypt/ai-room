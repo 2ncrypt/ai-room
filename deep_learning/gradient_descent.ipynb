{
 "cells": [
  {
   "cell_type": "code",
   "execution_count": null,
   "id": "cc730626",
   "metadata": {},
   "outputs": [],
   "source": [
    "import numpy as np\n",
    "import pandas as pd\n",
    "import matplotlib.pyplot as plt\n",
    "\n",
    "data = [[2,81],[4,93],[6,91],[8,97]]\n",
    "x = [i[0] for i in data]\n",
    "y = [i[1] for i in data]\n",
    "\n",
    "#그래프로 점 찍어보는거\n",
    "plt.figure(figsize=(8,5))\n",
    "plt.scatter(x,y)\n",
    "plt.show()"
   ]
  },
  {
   "cell_type": "code",
   "execution_count": 34,
   "id": "6439a49e",
   "metadata": {},
   "outputs": [
    {
     "name": "stdout",
     "output_type": "stream",
     "text": [
      "epoch = 0 기울기 =27.84 절편 =5.43\n",
      "epoch = 100 기울기 =7.073858435872394 절편 =50.51166161138297\n",
      "epoch = 200 기울기 =4.095999380762421 절편 =68.28224379060177\n",
      "epoch = 300 기울기 =2.9756829100119027 절편 =74.96781336233505\n",
      "epoch = 400 기울기 =2.5542024233262106 절편 =77.48302865233052\n",
      "epoch = 500 기울기 =2.3956349066513707 절편 =78.42929177728175\n",
      "epoch = 600 기울기 =2.3359793398132864 절편 =78.78529068727728\n",
      "epoch = 700 기울기 =2.313535987420573 절편 =78.91922301600925\n",
      "epoch = 800 기울기 =2.3050924490666174 절편 =78.96961044185792\n",
      "epoch = 900 기울기 =2.3019158585694823 절편 =78.98856697541248\n",
      "epoch = 1000 기울기 =2.3007207758016315 절편 =78.99569871827002\n",
      "epoch = 1100 기울기 =2.300271167070735 절편 =78.99838179089187\n",
      "epoch = 1200 기울기 =2.3001020172709508 절편 =78.9993912045567\n",
      "epoch = 1300 기울기 =2.300038380484562 절편 =78.99977096168232\n",
      "epoch = 1400 기울기 =2.3000144393354365 절편 =78.9999138322214\n",
      "epoch = 1500 기울기 =2.3000054323026444 절편 =78.99996758234106\n",
      "epoch = 1600 기울기 =2.300002043716771 절편 =78.99998780397235\n",
      "epoch = 1700 기울기 =2.3000007688780433 절편 =78.99999541166466\n",
      "epoch = 1800 기울기 =2.300000289263884 절편 =78.99999827379686\n",
      "epoch = 1900 기울기 =2.3000001088255795 절편 =78.9999993505755\n",
      "epoch = 2000 기울기 =2.3000000409418653 절편 =78.99999975567644\n"
     ]
    }
   ],
   "source": [
    "#리스트로 되어있는 x와 y값을 학습을 위해 넘파이 배열로 바꾸어줌.\n",
    "#인덱스를 주어 하나씩 불러와 계산이 가능해 지도록 하기 위함.\n",
    "x_data = np.array(x)\n",
    "y_data = np.array(y)\n",
    "\n",
    "#기울기 a와 절편 b의 값을 초기화\n",
    "a = 0\n",
    "b = 0\n",
    "\n",
    "#학습률 0.03 learning rate\n",
    "lr = 0.03\n",
    "\n",
    "#몇 번 반복될지 설정함. 여기선 경사하강법 횟수\n",
    "epochs = 2001\n",
    "\n",
    "#경사하강법 시작\n",
    "for i in range(epochs):\n",
    "    y_hat = a * x_data +b # y를 구하는 식\n",
    "    error = y_data - y_hat #오차 구하는 식\n",
    "    a_diff = -(2/len(x_data) * sum(x_data * (error))) #오차함수를 a로 미분한 값\n",
    "    b_diff = -(2/len(x_data) * sum(error)) #오차함수를 b로 미분한 값\n",
    "    ##여기선 Sum이 Sigma와 같은것.\n",
    "    a = a - lr * a_diff #학습률을 곱해 기존의 a값을 업데이트\n",
    "    b = b - lr * b_diff #학습률을 곱해 기존의 b값을 업데이트\n",
    "    if i % 100 == 0: #100번 반복될 때마다 현재의 epoch , a, b값을 출력\n",
    "        print(f'epoch = {i} 기울기 ={a} 절편 ={b}')\n",
    "\n",
    "#어떻게 optimizing 하냐에 따라서 최적의 학습을 구할수있음."
   ]
  },
  {
   "cell_type": "code",
   "execution_count": 39,
   "id": "f9daf0b6",
   "metadata": {},
   "outputs": [
    {
     "data": {
      "image/png": "[encoded data removed]",
      "text/plain": [
       "<Figure size 432x288 with 1 Axes>"
      ]
     },
     "metadata": {
      "needs_background": "light"
     },
     "output_type": "display_data"
    }
   ],
   "source": [
    "#학습률 0.03에서 반복을 아무리 실행시켜도 기울기와 절편이 2.3 79.0 에서 늘어나지 않음\n",
    "##별도 테스트로 학습률을 0.01~0.03 그리고 epoch를 2001~50001까지 해보았지만\n",
    "##기울기 절편은 2.3 79로 동일\n",
    "\n",
    "y_pred = a * x_data + b\n",
    "plt.scatter(x,y)\n",
    "plt.plot([min(x_data), max(x_data)], [min(y_pred),max(y_pred)], c='r')\n",
    "plt.show()\n",
    "#y = ax + b\n",
    "#y = 2.3x + 79\n",
    "# 공부한 시간 = x , 성적 = y"
   ]
  },
  {
   "cell_type": "markdown",
   "id": "7346575f",
   "metadata": {},
   "source": [
    "##오차수정하기 : 경사하강법"
   ]
  },
  {
   "cell_type": "code",
   "execution_count": 44,
   "id": "027ed521",
   "metadata": {},
   "outputs": [
    {
     "data": {
      "text/plain": [
       "<matplotlib.collections.PathCollection at 0x7f91bd2e1550>"
      ]
     },
     "execution_count": 44,
     "metadata": {},
     "output_type": "execute_result"
    },
    {
     "data": {
      "image/png": "[encoded data removed]",
      "text/plain": [
       "<Figure size 432x288 with 1 Axes>"
      ]
     },
     "metadata": {
      "needs_background": "light"
     },
     "output_type": "display_data"
    }
   ],
   "source": [
    "%matplotlib inline\n",
    "\n",
    "np.random.seed(0)\n",
    "\n",
    "#Y = 4x + 식을 근사(w1=4, w0=6), random 값은 Noise를 위해 만듬.\n",
    "X = 2 * np.random.rand(100,1)\n",
    "y = 6 + 4 * X + np.random.randn(100,1)\n",
    "\n",
    "plt.scatter(X ,y)"
   ]
  },
  {
   "cell_type": "code",
   "execution_count": 46,
   "id": "7d83b603",
   "metadata": {},
   "outputs": [],
   "source": [
    "def get_weight_updates(w1, w0, X, y, learning_rate=0.01):\n",
    "    N = len(y)\n",
    "    w1_update = np.zeros_like(w1)\n",
    "    w0_update = np.zeros_like(w0)\n",
    "    \n",
    "    y_pred = np.dot(X, w1.T) + w0\n",
    "    diff = y-y_pred\n",
    "    \n",
    "    w0_factors = np.ones((N,1))\n",
    "    \n",
    "    w1_update = -(2/N)*learning_rate*(np.dot(X.T, diff))\n",
    "    w0_update = -(2/N)*learning_rate*(np.dot(w0_factors.T , diff))\n",
    "    \n",
    "    return w1_update, w0_update"
   ]
  },
  {
   "cell_type": "code",
   "execution_count": 52,
   "id": "7be01529",
   "metadata": {},
   "outputs": [
    {
     "name": "stdout",
     "output_type": "stream",
     "text": [
      "(100, 1)\n",
      "((1, 1), (1, 1))\n"
     ]
    },
    {
     "data": {
      "text/plain": [
       "(array([[0.]]), array([[0.]]))"
      ]
     },
     "execution_count": 52,
     "metadata": {},
     "output_type": "execute_result"
    }
   ],
   "source": [
    "w0 = np.zeros((1,1))\n",
    "w1 = np.zeros((1,1))\n",
    "y_pred = np.dot(X, w1.T) + w0\n",
    "diff = y-y_pred\n",
    "print(diff.shape)\n",
    "\n",
    "w0_factors = np.ones((100,1))\n",
    "w1_update = -(2/100)*0.01*(np.dot(X.T , diff))\n",
    "w0_update = -(2/100)*0.01*(np.dot(w0_factors.T , diff))\n",
    "print(f'{w1_update.shape, w0_update.shape}')\n",
    "w1, w0"
   ]
  },
  {
   "cell_type": "code",
   "execution_count": 54,
   "id": "8acdcde8",
   "metadata": {},
   "outputs": [],
   "source": [
    "#반복적으로 경사하강법을 이용하여 get_weight_updates()를 호출하여 w1과 w0를 업데이트 하는 함수 생성\n",
    "def gradient_descent_steps(X, y, iters=10000):\n",
    "    w0 = np.zeros((1,1))\n",
    "    w1 = np.zeros((1,1))\n",
    "    \n",
    "    for ind in range(iters):\n",
    "        w1_update, w0_update = get_weight_updates(w1, w0, X , y, learning_rate=0.01)\n",
    "        w1 = w1 - w1_update\n",
    "        w0 = w0 - w0_update\n",
    "    \n",
    "    return w1, w0"
   ]
  },
  {
   "cell_type": "code",
   "execution_count": 56,
   "id": "38e9e69d",
   "metadata": {},
   "outputs": [
    {
     "name": "stdout",
     "output_type": "stream",
     "text": [
      "w1:4.022, w0:6.162\n",
      "Grandient Descent Total Cost:0.9935\n"
     ]
    }
   ],
   "source": [
    "##예측 오차 비용을 계산을 수행하는 함수 생서 및 경사 하강법 수행\n",
    "def get_cost(y, y_pred):\n",
    "    N = len(y)\n",
    "    cost = np.sum(np.square(y - y_pred))/N\n",
    "    return cost\n",
    "\n",
    "w1, w0 = gradient_descent_steps(X , y , iters=1000)\n",
    "print(\"w1:{0:.3f}, w0:{1:.3f}\".format(w1[0,0], w0[0,0]))\n",
    "y_pred = w1[0,0] * X + w0\n",
    "print('Grandient Descent Total Cost:{0:.4f}'.format(get_cost(y, y_pred)))"
   ]
  },
  {
   "cell_type": "code",
   "execution_count": null,
   "id": "459e1b2d",
   "metadata": {},
   "outputs": [],
   "source": []
  }
 ],
 "metadata": {
  "kernelspec": {
   "display_name": "Python 3",
   "language": "python",
   "name": "python3"
  },
  "language_info": {
   "codemirror_mode": {
    "name": "ipython",
    "version": 3
   },
   "file_extension": ".py",
   "mimetype": "text/x-python",
   "name": "python",
   "nbconvert_exporter": "python",
   "pygments_lexer": "ipython3",
   "version": "3.7.2"
  },
  "toc": {
   "base_numbering": 1,
   "nav_menu": {},
   "number_sections": true,
   "sideBar": true,
   "skip_h1_title": false,
   "title_cell": "Table of Contents",
   "title_sidebar": "Contents",
   "toc_cell": false,
   "toc_position": {},
   "toc_section_display": true,
   "toc_window_display": false
  }
 },
 "nbformat": 4,
 "nbformat_minor": 5
}
