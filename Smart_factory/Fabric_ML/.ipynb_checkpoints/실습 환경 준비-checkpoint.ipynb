{
 "cells": [
  {
   "cell_type": "markdown",
   "metadata": {
    "id": "EKMNv2YOLfte"
   },
   "source": [
    "# 실습 환경 준비"
   ]
  },
  {
   "cell_type": "code",
   "execution_count": 1,
   "metadata": {
    "colab": {
     "base_uri": "https://localhost:8080/"
    },
    "executionInfo": {
     "elapsed": 311,
     "status": "ok",
     "timestamp": 1622695479819,
     "user": {
      "displayName": "박태우",
      "photoUrl": "",
      "userId": "14213471907595047482"
     },
     "user_tz": -540
    },
    "id": "95cJvAHmLftf",
    "outputId": "84d309ef-b410-4525-833d-05246a006ea0"
   },
   "outputs": [
    {
     "name": "stdout",
     "output_type": "stream",
     "text": [
      "3.7.2 (default, Dec 29 2018, 00:00:04) \n",
      "[Clang 4.0.1 (tags/RELEASE_401/final)]\n"
     ]
    }
   ],
   "source": [
    "import sys\n",
    "print (sys.version)"
   ]
  },
  {
   "cell_type": "code",
   "execution_count": 2,
   "metadata": {
    "colab": {
     "base_uri": "https://localhost:8080/"
    },
    "executionInfo": {
     "elapsed": 1651,
     "status": "ok",
     "timestamp": 1622697722630,
     "user": {
      "displayName": "박태우",
      "photoUrl": "",
      "userId": "14213471907595047482"
     },
     "user_tz": -540
    },
    "id": "4guABlgsUPRo",
    "outputId": "a6f98f61-35fb-4cfa-ba8f-75da8e87af5e"
   },
   "outputs": [
    {
     "name": "stdout",
     "output_type": "stream",
     "text": [
      "2.0.0\n"
     ]
    }
   ],
   "source": [
    "import tensorflow as tf\n",
    "print(tf.__version__)"
   ]
  },
  {
   "cell_type": "code",
   "execution_count": 3,
   "metadata": {
    "id": "mwnprzvTLftg"
   },
   "outputs": [],
   "source": [
    "import cv2\n",
    "import os\n",
    "import glob\n",
    "import shutil\n",
    "import random\n",
    "import string\n",
    "import numpy as np"
   ]
  },
  {
   "cell_type": "code",
   "execution_count": 4,
   "metadata": {
    "id": "F77uu0huLfth"
   },
   "outputs": [],
   "source": [
    "PATH_DEFECT = 'dataset/Defect_images/'\n",
    "PATH_MASK = 'dataset/Mask_images/'\n",
    "PATH_NODEFECT = 'dataset/NODefect_images/'"
   ]
  },
  {
   "cell_type": "code",
   "execution_count": 5,
   "metadata": {
    "colab": {
     "base_uri": "https://localhost:8080/",
     "height": 34
    },
    "executionInfo": {
     "elapsed": 336,
     "status": "ok",
     "timestamp": 1622697729817,
     "user": {
      "displayName": "박태우",
      "photoUrl": "",
      "userId": "14213471907595047482"
     },
     "user_tz": -540
    },
    "id": "UTMSOrMfLfth",
    "outputId": "0df2afc0-4b7b-496f-86c4-b86f70aadbd4"
   },
   "outputs": [
    {
     "data": {
      "text/plain": [
       "'dataset/Defect_images/0072_010_03.png'"
      ]
     },
     "execution_count": 5,
     "metadata": {},
     "output_type": "execute_result"
    }
   ],
   "source": [
    "defect_list = glob.glob(PATH_DEFECT + '*.png')\n",
    "defect_list[0]"
   ]
  },
  {
   "cell_type": "markdown",
   "metadata": {
    "id": "Joc34RIoLfti"
   },
   "source": [
    "## Dataset 불러오기"
   ]
  },
  {
   "cell_type": "code",
   "execution_count": 6,
   "metadata": {
    "id": "n7u0nKQILfti"
   },
   "outputs": [],
   "source": [
    "random.seed(0)\n",
    "\n",
    "defect_list = glob.glob(PATH_DEFECT + '*.png')\n",
    "mask_list = glob.glob(PATH_MASK + '*.png')\n",
    "pass_list = glob.glob(PATH_NODEFECT + '**/*.png')\n",
    "\n",
    "# Match defect-mask pairs\n",
    "new_defect_list = list()\n",
    "new_mask_list = list()\n",
    "for defect in defect_list:\n",
    "    num = defect.split('/')[-1].split('_')[0]\n",
    "    for mask in mask_list:\n",
    "        num_mask = mask.split('/')[-1].split('_')[0]\n",
    "        if num == num_mask:\n",
    "            new_defect_list.append(defect)\n",
    "            new_mask_list.append(mask)\n",
    "            break\n",
    "defect_list = new_defect_list\n",
    "mask_list = new_mask_list"
   ]
  },
  {
   "cell_type": "code",
   "execution_count": 7,
   "metadata": {
    "colab": {
     "base_uri": "https://localhost:8080/"
    },
    "executionInfo": {
     "elapsed": 314,
     "status": "ok",
     "timestamp": 1622697756436,
     "user": {
      "displayName": "박태우",
      "photoUrl": "",
      "userId": "14213471907595047482"
     },
     "user_tz": -540
    },
    "id": "FtOw96sOLftj",
    "outputId": "ce937df5-7d11-475d-8d91-1faba3b7c470"
   },
   "outputs": [
    {
     "data": {
      "text/plain": [
       "['dataset/Mask_images/0072_010_03_mask.png',\n",
       " 'dataset/Mask_images/0061_022_06_mask.png',\n",
       " 'dataset/Mask_images/0043_019_04_mask.png',\n",
       " 'dataset/Mask_images/0087_030_02_mask.png',\n",
       " 'dataset/Mask_images/0029_019_02_mask.png',\n",
       " 'dataset/Mask_images/0001_002_00_mask.png',\n",
       " 'dataset/Mask_images/0035_019_02_mask.png',\n",
       " 'dataset/Mask_images/0108_025_03_mask.png',\n",
       " 'dataset/Mask_images/0024_019_02_mask.png',\n",
       " 'dataset/Mask_images/0064_022_00_mask.png',\n",
       " 'dataset/Mask_images/0082_030_04_mask.png',\n",
       " 'dataset/Mask_images/0096_030_03_mask.png',\n",
       " 'dataset/Mask_images/0038_019_02_mask.png',\n",
       " 'dataset/Mask_images/0018_010_03_mask.png',\n",
       " 'dataset/Mask_images/0020_016_03_mask.png',\n",
       " 'dataset/Mask_images/0068_023_02_mask.png',\n",
       " 'dataset/Mask_images/0012_006_02_mask.png',\n",
       " 'dataset/Mask_images/0080_036_01_mask.png',\n",
       " 'dataset/Mask_images/0004_002_01_mask.png',\n",
       " 'dataset/Mask_images/0057_019_06_mask.png',\n",
       " 'dataset/Mask_images/0046_019_04_mask.png',\n",
       " 'dataset/Mask_images/0052_019_03_mask.png',\n",
       " 'dataset/Mask_images/0030_019_02_mask.png',\n",
       " 'dataset/Mask_images/0093_030_01_mask.png',\n",
       " 'dataset/Mask_images/0003_002_00_mask.png',\n",
       " 'dataset/Mask_images/0037_019_02_mask.png',\n",
       " 'dataset/Mask_images/0106_010_03_mask.png',\n",
       " 'dataset/Mask_images/0085_030_02_mask.png',\n",
       " 'dataset/Mask_images/0107_025_03_mask.png',\n",
       " 'dataset/Mask_images/0015_006_02_mask.png',\n",
       " 'dataset/Mask_images/0077_022_03_mask.png',\n",
       " 'dataset/Mask_images/0101_022_03_mask.png',\n",
       " 'dataset/Mask_images/0088_030_02_mask.png',\n",
       " 'dataset/Mask_images/0026_019_02_mask.png',\n",
       " 'dataset/Mask_images/0104_022_03_mask.png',\n",
       " 'dataset/Mask_images/0010_006_02_mask.png',\n",
       " 'dataset/Mask_images/0067_023_01_mask.png',\n",
       " 'dataset/Mask_images/0023_019_02_mask.png',\n",
       " 'dataset/Mask_images/0058_019_06_mask.png',\n",
       " 'dataset/Mask_images/0063_022_00_mask.png',\n",
       " 'dataset/Mask_images/0041_019_02_mask.png',\n",
       " 'dataset/Mask_images/0079_025_03_mask.png',\n",
       " 'dataset/Mask_images/0032_019_02_mask.png',\n",
       " 'dataset/Mask_images/0091_030_01_mask.png',\n",
       " 'dataset/Mask_images/0017_002_02_mask.png',\n",
       " 'dataset/Mask_images/0083_029_04_mask.png',\n",
       " 'dataset/Mask_images/0098_019_02_mask.png',\n",
       " 'dataset/Mask_images/0055_019_06_mask.png',\n",
       " 'dataset/Mask_images/0044_019_04_mask2.png',\n",
       " 'dataset/Mask_images/0006_002_01_mask.png',\n",
       " 'dataset/Mask_images/0075_010_03_mask.png',\n",
       " 'dataset/Mask_images/0050_019_03_mask.png',\n",
       " 'dataset/Mask_images/0103_010_03_mask.png',\n",
       " 'dataset/Mask_images/0021_016_03_mask.png',\n",
       " 'dataset/Mask_images/0069_023_02_mask.png',\n",
       " 'dataset/Mask_images/0042_019_02_mask.png',\n",
       " 'dataset/Mask_images/0013_006_02_mask.png',\n",
       " 'dataset/Mask_images/0071_030_03_mask.png',\n",
       " 'dataset/Mask_images/0094_027_05_mask.png',\n",
       " 'dataset/Mask_images/0089_002_01_mask.png',\n",
       " 'dataset/Mask_images/0053_019_03_mask.png',\n",
       " 'dataset/Mask_images/0047_019_04_mask.png',\n",
       " 'dataset/Mask_images/0056_019_06_mask.png',\n",
       " 'dataset/Mask_images/0005_002_01_mask.png',\n",
       " 'dataset/Mask_images/0092_030_01_mask.png',\n",
       " 'dataset/Mask_images/0031_019_02_mask.png',\n",
       " 'dataset/Mask_images/0095_010_03_mask.png',\n",
       " 'dataset/Mask_images/0060_022_06_mask.png',\n",
       " 'dataset/Mask_images/0086_030_02_mask.png',\n",
       " 'dataset/Mask_images/0028_019_02_mask.png',\n",
       " 'dataset/Mask_images/0073_010_03_mask.png',\n",
       " 'dataset/Mask_images/0105_010_03_mask.png',\n",
       " 'dataset/Mask_images/0034_019_02_mask.png',\n",
       " 'dataset/Mask_images/0090_002_01_mask.png',\n",
       " 'dataset/Mask_images/0097_030_03_mask1.png',\n",
       " 'dataset/Mask_images/0109_025_03_mask.png',\n",
       " 'dataset/Mask_images/0025_019_02_mask.png',\n",
       " 'dataset/Mask_images/0065_022_00_mask.png',\n",
       " 'dataset/Mask_images/0039_019_02_mask.png',\n",
       " 'dataset/Mask_images/0016_006_02_mask.png',\n",
       " 'dataset/Mask_images/0070_023_02_mask.png',\n",
       " 'dataset/Mask_images/0011_006_02_mask.png',\n",
       " 'dataset/Mask_images/0022_019_02_mask.png',\n",
       " 'dataset/Mask_images/0048_019_04_mask.png',\n",
       " 'dataset/Mask_images/0078_025_03_mask.png',\n",
       " 'dataset/Mask_images/0040_019_02_mask.png',\n",
       " 'dataset/Mask_images/0062_022_00_mask.png',\n",
       " 'dataset/Mask_images/0084_030_04_mask.png',\n",
       " 'dataset/Mask_images/0066_023_01_mask.png',\n",
       " 'dataset/Mask_images/0099_019_02_mask.png',\n",
       " 'dataset/Mask_images/0049_030_03_mask.png',\n",
       " 'dataset/Mask_images/0033_019_02_mask.png',\n",
       " 'dataset/Mask_images/0074_010_03_mask.png',\n",
       " 'dataset/Mask_images/0102_010_03_mask.png',\n",
       " 'dataset/Mask_images/0051_019_03_mask.png',\n",
       " 'dataset/Mask_images/0019_016_03_mask.png',\n",
       " 'dataset/Mask_images/0045_019_04_mask.png',\n",
       " 'dataset/Mask_images/0036_019_02_mask.png',\n",
       " 'dataset/Mask_images/0002_002_00_mask.png',\n",
       " 'dataset/Mask_images/0059_019_01_mask.png',\n",
       " 'dataset/Mask_images/0054_019_03_mask.png',\n",
       " 'dataset/Mask_images/0081_006_04_mask.png',\n",
       " 'dataset/Mask_images/0076_030_03_mask.png',\n",
       " 'dataset/Mask_images/0014_006_02_mask.png',\n",
       " 'dataset/Mask_images/0027_019_02_mask.png']"
      ]
     },
     "execution_count": 7,
     "metadata": {},
     "output_type": "execute_result"
    }
   ],
   "source": [
    "new_mask_list"
   ]
  },
  {
   "cell_type": "markdown",
   "metadata": {
    "id": "YX_ANcWgLftj"
   },
   "source": [
    "## 첫 발송 데이터 생성"
   ]
  },
  {
   "cell_type": "code",
   "execution_count": 8,
   "metadata": {
    "id": "id5ItER3Lftj"
   },
   "outputs": [],
   "source": [
    "# The first dataset given\n",
    "if os.path.exists('dataset/1') is False:\n",
    "    os.mkdir('dataset/1')\n",
    "for file_name in pass_list + defect_list:\n",
    "    if random.randint(0, 9) < 2:\n",
    "        barcode = ''.join(random.choices(string.ascii_letters + string.digits, k=16))\n",
    "        shutil.copy2(file_name, 'dataset/1/' + barcode + '.png')"
   ]
  },
  {
   "cell_type": "markdown",
   "metadata": {
    "id": "gGHqxLNTLftk"
   },
   "source": [
    "## 두번째 데이터 생성"
   ]
  },
  {
   "cell_type": "code",
   "execution_count": 9,
   "metadata": {
    "id": "CiEqrH3zLftk"
   },
   "outputs": [],
   "source": [
    "# The second dataset\n",
    "if os.path.exists('dataset/2') is False:\n",
    "    os.mkdir('dataset/2')\n",
    "if os.path.exists('dataset/2/OK') is False:\n",
    "    os.mkdir('dataset/2/OK')\n",
    "if os.path.exists('dataset/2/FAIL') is False:\n",
    "    os.mkdir('dataset/2/FAIL')\n",
    "idx = 0\n",
    "\n",
    "for file_name in pass_list:\n",
    "    img = cv2.imread(file_name)\n",
    "    height, width, _ = img.shape\n",
    "    step = height // 2\n",
    "\n",
    "    for i in range(width // step):\n",
    "        w = i * step\n",
    "        if w < width - height and random.randint(0, 9) < 3:\n",
    "            patch = img[:, w:w+height, :]\n",
    "            cv2.imwrite('dataset/2/OK/%04d.png' % idx, patch)\n",
    "            idx += 1 \n",
    "\n",
    "patch_list = list()\n",
    "for item in zip(defect_list, mask_list):\n",
    "    defect, mask = item\n",
    "\n",
    "    img_d = cv2.imread(defect)\n",
    "    img_m = cv2.imread(mask)\n",
    "\n",
    "    height, width, _ = img_d.shape\n",
    "    step = height // 2\n",
    "    for i in range(width // step):\n",
    "        w = i * step\n",
    "        if w < width - height:\n",
    "            patch = img_d[:, w:w+height, :]\n",
    "            patch_d = img_m[:, w:w+height, :]\n",
    "            if patch_d.sum() > 0:\n",
    "                patch_list.append(patch)\n",
    "\n",
    "random.shuffle(patch_list)\n",
    "patch_list_fraction = patch_list[:len(patch_list)//3]\n",
    "for idx, patch in enumerate(patch_list_fraction):\n",
    "    cv2.imwrite('dataset/2/FAIL/%04d.png' % idx, patch)"
   ]
  },
  {
   "cell_type": "markdown",
   "metadata": {
    "id": "5pEuQdF9Lftl"
   },
   "source": [
    "## 세번째 데이터 생성"
   ]
  },
  {
   "cell_type": "code",
   "execution_count": 10,
   "metadata": {
    "id": "YtaH1BReLftl"
   },
   "outputs": [],
   "source": [
    "# The third dataset\n",
    "if os.path.exists('dataset/3') is False:\n",
    "    os.mkdir('dataset/3')\n",
    "if os.path.exists('dataset/3/OK') is False:\n",
    "    os.mkdir('dataset/3/OK')\n",
    "if os.path.exists('dataset/3/FAIL') is False:\n",
    "    os.mkdir('dataset/3/FAIL')\n",
    "if os.path.exists('dataset/3/MASK') is False:\n",
    "    os.mkdir('dataset/3/MASK')\n",
    "idx = 0\n",
    "for file_name in pass_list:\n",
    "    img = cv2.imread(file_name)\n",
    "    height, width, _ = img.shape\n",
    "    step = height // 2\n",
    "\n",
    "    for i in range(width // step):\n",
    "        w = i * step\n",
    "        if w < width - height and random.randint(0, 9) < 3:\n",
    "            patch = img[:, w:w+height, :]\n",
    "            cv2.imwrite('dataset/3/OK/%04d.png' % idx, patch)\n",
    "            idx += 1 \n",
    "\n",
    "patch_pair_list = list()\n",
    "for item in zip(defect_list, mask_list):\n",
    "    defect, mask = item\n",
    "\n",
    "    img_d = cv2.imread(defect)\n",
    "    img_m = cv2.imread(mask)\n",
    "\n",
    "    height, width, _ = img_d.shape\n",
    "    step = height // 2\n",
    "    for i in range(width // step):\n",
    "        w = i * step\n",
    "        if w < width - height:\n",
    "            patch = img_d[:, w:w+height, :]\n",
    "            patch_d = img_m[:, w:w+height, :]\n",
    "\n",
    "            if patch_d.sum() > 0:\n",
    "                patch_pair_list.append((patch, patch_d))\n",
    "\n",
    "random.shuffle(patch_pair_list)\n",
    "for idx, pair in enumerate(patch_pair_list):\n",
    "    patch, patch_d = pair\n",
    "    cv2.imwrite('dataset/3/FAIL/%04d.png' % idx, patch)\n",
    "    cv2.imwrite('dataset/3/MASK/%04d.png' % idx, patch_d)"
   ]
  },
  {
   "cell_type": "markdown",
   "metadata": {
    "id": "DnmSXP_xLftl"
   },
   "source": [
    "## 실전 데이터 생성"
   ]
  },
  {
   "cell_type": "code",
   "execution_count": null,
   "metadata": {
    "id": "2OLrESyCLftm"
   },
   "outputs": [],
   "source": [
    "# The test dataset\n",
    "if os.path.exists('data/') is False:\n",
    "    os.mkdir('data/')\n",
    "if os.path.exists('tfrecords/') is False:\n",
    "    os.mkdir('tfrecords/')\n",
    "if os.path.exists('model/') is False:\n",
    "    os.mkdir('model/')\n",
    "if os.path.exists('data/input_data') is False:\n",
    "    os.mkdir('data/input_data')\n",
    "if os.path.exists('data/output_csv') is False:\n",
    "    os.mkdir('data/output_csv')\n",
    "    \n",
    "idx = 0\n",
    "for file_name in pass_list:\n",
    "    img = cv2.imread(file_name)\n",
    "    height, width, _ = img.shape\n",
    "    step = height // 2\n",
    "\n",
    "    for i in range(width // step):\n",
    "        w = i * step\n",
    "        if w < width - height and random.randint(0, 9) < 5:\n",
    "            patch = img[:, w:w+height, :]\n",
    "            cv2.imwrite('data/input_data/ok_%04d.png' % idx, patch)\n",
    "            idx += 1 \n",
    "\n",
    "patch_pair_list = list()\n",
    "for item in zip(defect_list, mask_list):\n",
    "    defect, mask = item\n",
    "\n",
    "    img_d = cv2.imread(defect)\n",
    "    img_m = cv2.imread(mask)\n",
    "\n",
    "    height, width, _ = img_d.shape\n",
    "    step = height // 2\n",
    "    for i in range(width // step):\n",
    "        w = i * step\n",
    "        if w < width - height:\n",
    "            patch = img_d[:, w:w+height, :]\n",
    "            patch_d = img_m[:, w:w+height, :]\n",
    "\n",
    "            if patch_d.sum() > 0:\n",
    "                patch_pair_list.append((patch, patch_d))\n",
    "\n",
    "random.shuffle(patch_pair_list)\n",
    "for idx, pair in enumerate(patch_pair_list):\n",
    "    patch, patch_d = pair\n",
    "    cv2.imwrite('data/input_data/fail_%04d.png' % idx, patch)"
   ]
  },
  {
   "cell_type": "code",
   "execution_count": null,
   "metadata": {
    "id": "QyC2YGvdLftn"
   },
   "outputs": [],
   "source": []
  }
 ],
 "metadata": {
  "accelerator": "GPU",
  "colab": {
   "collapsed_sections": [],
   "machine_shape": "hm",
   "name": "실습 환경 준비.ipynb",
   "provenance": []
  },
  "kernelspec": {
   "display_name": "Python 3",
   "language": "python",
   "name": "python3"
  },
  "language_info": {
   "codemirror_mode": {
    "name": "ipython",
    "version": 3
   },
   "file_extension": ".py",
   "mimetype": "text/x-python",
   "name": "python",
   "nbconvert_exporter": "python",
   "pygments_lexer": "ipython3",
   "version": "3.7.2"
  },
  "toc": {
   "base_numbering": 1,
   "nav_menu": {},
   "number_sections": true,
   "sideBar": true,
   "skip_h1_title": false,
   "title_cell": "Table of Contents",
   "title_sidebar": "Contents",
   "toc_cell": false,
   "toc_position": {},
   "toc_section_display": true,
   "toc_window_display": false
  }
 },
 "nbformat": 4,
 "nbformat_minor": 1
}
