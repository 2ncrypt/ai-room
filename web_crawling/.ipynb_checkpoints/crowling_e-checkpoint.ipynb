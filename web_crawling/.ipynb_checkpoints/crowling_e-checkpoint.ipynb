{
 "cells": [
  {
   "cell_type": "code",
   "execution_count": 2,
   "id": "3f4fa6e6",
   "metadata": {},
   "outputs": [],
   "source": [
    "import openpyxl\n",
    "\n",
    "def write_excel_template(filename, sheetname, listdata):\n",
    "    excel_file = openpyxl.Workbook()\n",
    "    excel_sheet = excel_file.active\n",
    "    excel_sheet.column_dimensions['A'].width = 100\n",
    "    excel_sheet.column_dimensions['B'].width = 20\n",
    "    \n",
    "    if sheetname != '':\n",
    "        excel_sheet.title = sheetname\n",
    "    \n",
    "    for item in listdata:\n",
    "        excel_sheet.append(item)\n",
    "    excel_file.save(filename)\n",
    "    excel_file.close()"
   ]
  },
  {
   "cell_type": "code",
   "execution_count": 59,
   "id": "51366440",
   "metadata": {},
   "outputs": [
    {
     "name": "stdout",
     "output_type": "stream",
     "text": [
      "['HMM', '삼성전자', '삼성중공업', '카카오', '셀트리온', 'LG전자', '금호석유', '박셀바이오', '한국석유', 'SK하이닉스', 'SH에너지화학', '효성티앤씨', '한국선재', '삼성SDI', '팬오션', '휴온스', '현대차', 'POSCO', '이트론', '휴온스글로벌', 'KB금융', 'SK이노베이션', '기아', 'NAVER', 'LG화학', '씨젠', '신풍제약', '텔레칩스', '엑세스바이오', '셀트리온헬스케어']\n"
     ]
    },
    {
     "ename": "AttributeError",
     "evalue": "'list' object has no attribute 'str'",
     "output_type": "error",
     "traceback": [
      "\u001b[0;31m---------------------------------------------------------------------------\u001b[0m",
      "\u001b[0;31mAttributeError\u001b[0m                            Traceback (most recent call last)",
      "\u001b[0;32m<ipython-input-59-8dc1c1f47e30>\u001b[0m in \u001b[0;36m<module>\u001b[0;34m\u001b[0m\n\u001b[1;32m     29\u001b[0m \u001b[0;34m\u001b[0m\u001b[0m\n\u001b[1;32m     30\u001b[0m \u001b[0mprint\u001b[0m\u001b[0;34m(\u001b[0m\u001b[0mpinance_list\u001b[0m\u001b[0;34m)\u001b[0m\u001b[0;34m\u001b[0m\u001b[0;34m\u001b[0m\u001b[0m\n\u001b[0;32m---> 31\u001b[0;31m \u001b[0mprint\u001b[0m\u001b[0;34m(\u001b[0m\u001b[0mpinance_ud\u001b[0m\u001b[0;34m.\u001b[0m\u001b[0mstr\u001b[0m\u001b[0;34m(\u001b[0m\u001b[0;34m)\u001b[0m\u001b[0;34m.\u001b[0m\u001b[0msplit\u001b[0m\u001b[0;34m(\u001b[0m\u001b[0;34m)\u001b[0m\u001b[0;34m)\u001b[0m\u001b[0;34m\u001b[0m\u001b[0;34m\u001b[0m\u001b[0m\n\u001b[0m",
      "\u001b[0;31mAttributeError\u001b[0m: 'list' object has no attribute 'str'"
     ]
    }
   ],
   "source": [
    "import requests\n",
    "from bs4 import BeautifulSoup\n",
    "\n",
    "res = requests.get('https://finance.naver.com/sise/lastsearch2.nhn')\n",
    "soup = BeautifulSoup(res.content, 'html.parser')\n",
    "\n",
    "pinance_list = []\n",
    "pinance_ud = []\n",
    "\n",
    "# for tag in soup.select('#contentarea'):\n",
    "#     for list_tag in tag.select('div.box_type_l > table > tbody > tr > td > a'):\n",
    "#         pinance_list.append(list_tag.text)\n",
    "#     for ud_tag in tag.select('div.box_type_l > table > tbody > tr > td > span'):\n",
    "#         pinance_ud.append(ud_tag['tah'])\n",
    "\n",
    "title = soup.select('.type_5 a')\n",
    "pay = soup.select('.type_5 tr ')\n",
    "#contentarea > div.box_type_l > table > tbody > tr:nth-child(3) > td:nth-child(4)\n",
    "#셀레니움 path\n",
    "\n",
    "# for i in pay:\n",
    "#     print(i.text.split())\n",
    "\n",
    "for i in title:\n",
    "#     print(i.text)\n",
    "    pinance_list.append(i.text)\n",
    "for i in pay:\n",
    "    pinance_ud.append(i.text)\n",
    "\n",
    "print(pinance_list)\n",
    "print(pinance_ud.str().split())"
   ]
  },
  {
   "cell_type": "code",
   "execution_count": null,
   "id": "269b9170",
   "metadata": {},
   "outputs": [],
   "source": []
  }
 ],
 "metadata": {
  "kernelspec": {
   "display_name": "Python 3",
   "language": "python",
   "name": "python3"
  },
  "language_info": {
   "codemirror_mode": {
    "name": "ipython",
    "version": 3
   },
   "file_extension": ".py",
   "mimetype": "text/x-python",
   "name": "python",
   "nbconvert_exporter": "python",
   "pygments_lexer": "ipython3",
   "version": "3.7.2"
  },
  "toc": {
   "base_numbering": 1,
   "nav_menu": {},
   "number_sections": true,
   "sideBar": true,
   "skip_h1_title": false,
   "title_cell": "Table of Contents",
   "title_sidebar": "Contents",
   "toc_cell": false,
   "toc_position": {},
   "toc_section_display": true,
   "toc_window_display": false
  }
 },
 "nbformat": 4,
 "nbformat_minor": 5
}
