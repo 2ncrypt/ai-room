{
 "cells": [
  {
   "cell_type": "code",
   "execution_count": 16,
   "id": "300352d8",
   "metadata": {},
   "outputs": [
    {
     "name": "stdout",
     "output_type": "stream",
     "text": [
      "잔금대출에도 DTI 규제 적용 검토\n"
     ]
    },
    {
     "data": {
      "text/plain": [
       "<function bytes.count>"
      ]
     },
     "execution_count": 16,
     "metadata": {},
     "output_type": "execute_result"
    }
   ],
   "source": [
    "import requests\n",
    "from bs4 import BeautifulSoup\n",
    "#라이브러리 임포트 \n",
    "#requests : 웹페이지 가져오기 라이브러리\n",
    "#bs4(beautifulsoup) : 웹페이지 분석 라이브러리\n",
    "\n",
    "res = requests.get('http://v.media.daum.net/v/20170615203441266')\n",
    "#웹페이지 가져오기\n",
    "\n",
    "soup = BeautifulSoup(res.content,'html.parser')\n",
    "#웹페이지 파싱하기\n",
    "\n",
    "mydata = soup.find('title')\n",
    "#필요한 데이터 추출하기\n",
    "\n",
    "print(mydata.get_text())\n",
    "#추출한 데이터 활용하기\n",
    "res.content\n"
   ]
  },
  {
   "cell_type": "code",
   "execution_count": null,
   "id": "a780b0b5",
   "metadata": {},
   "outputs": [],
   "source": []
  }
 ],
 "metadata": {
  "kernelspec": {
   "display_name": "Python 3",
   "language": "python",
   "name": "python3"
  },
  "language_info": {
   "codemirror_mode": {
    "name": "ipython",
    "version": 3
   },
   "file_extension": ".py",
   "mimetype": "text/x-python",
   "name": "python",
   "nbconvert_exporter": "python",
   "pygments_lexer": "ipython3",
   "version": "3.7.2"
  },
  "toc": {
   "base_numbering": 1,
   "nav_menu": {},
   "number_sections": true,
   "sideBar": true,
   "skip_h1_title": false,
   "title_cell": "Table of Contents",
   "title_sidebar": "Contents",
   "toc_cell": false,
   "toc_position": {},
   "toc_section_display": true,
   "toc_window_display": false
  }
 },
 "nbformat": 4,
 "nbformat_minor": 5
}
