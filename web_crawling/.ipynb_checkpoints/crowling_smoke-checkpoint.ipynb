{
 "cells": [
  {
   "cell_type": "code",
   "execution_count": 59,
   "id": "10d61c80",
   "metadata": {},
   "outputs": [
    {
     "name": "stdout",
     "output_type": "stream",
     "text": [
      "[본사] 유웰 발라리안 팟 킷 / c 타입 / 전자담배 pod system se csv\n",
      "[예약발송] 유웰 발라리안 킷 C타입 SE UWELL Valyrian Pod System\n",
      "차이코스 맥스 궐련형전자담배 아이코스 3 듀얼 릴 호환\n",
      "[당일발송] 유웰 발라리안 C타입 / 칼리번 G / 팟시스템 킷 CSV 전자담배\n",
      "차이코스 컨트롤 AXIS 궐련형전자담배 아이코스 3 릴 듀얼 맥스 호환\n"
     ]
    }
   ],
   "source": [
    "import requests\n",
    "from bs4 import  BeautifulSoup\n",
    "\n",
    "res = requests.get('https://search.shopping.naver.com/search/all?query=%EC%A0%84%EC%9E%90%EB%8B%B4%EB%B0%B0&cat_id=&frm=NVSHATC#')\n",
    "soup = BeautifulSoup(res.content,'html.parser')\n",
    "s_list1 = soup.select('#__next div.basicList_title__3P9Q7 a')\n",
    "ranking = []\n",
    "for index, item in enumerate(s_list2):\n",
    "    ranking.append(item.text)\n",
    "for i in range(0,len(ranking)):\n",
    "    print(ranking[i])\n"
   ]
  },
  {
   "cell_type": "code",
   "execution_count": null,
   "id": "ab2ac944",
   "metadata": {},
   "outputs": [],
   "source": []
  }
 ],
 "metadata": {
  "kernelspec": {
   "display_name": "Python 3",
   "language": "python",
   "name": "python3"
  },
  "language_info": {
   "codemirror_mode": {
    "name": "ipython",
    "version": 3
   },
   "file_extension": ".py",
   "mimetype": "text/x-python",
   "name": "python",
   "nbconvert_exporter": "python",
   "pygments_lexer": "ipython3",
   "version": "3.7.2"
  },
  "toc": {
   "base_numbering": 1,
   "nav_menu": {},
   "number_sections": true,
   "sideBar": true,
   "skip_h1_title": false,
   "title_cell": "Table of Contents",
   "title_sidebar": "Contents",
   "toc_cell": false,
   "toc_position": {},
   "toc_section_display": true,
   "toc_window_display": false
  }
 },
 "nbformat": 4,
 "nbformat_minor": 5
}
