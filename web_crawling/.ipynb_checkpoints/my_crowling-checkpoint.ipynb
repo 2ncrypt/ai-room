{
 "cells": [
  {
   "cell_type": "code",
   "execution_count": 9,
   "id": "d1b10a65",
   "metadata": {},
   "outputs": [],
   "source": [
    "import requests\n",
    "from bs4 import BeautifulSoup\n",
    "\n",
    "res = requests.get('https://poe.ninja/challenge/builds?class=Elementalist&skill=Burning-Arrow&keystone=Unwavering-Stance,Elemental-Overload&sort=dps')\n",
    "soup = BeautifulSoup(res.content,'html.parser')\n",
    "section = soup.find('div','css-kjnvho')\n",
    "names = section.find_all('span','css-1i7yjan')\n",
    "# name = section.find_all('')\n",
    "for name in section:\n",
    "    print(name.get_text())"
   ]
  },
  {
   "cell_type": "code",
   "execution_count": null,
   "id": "beab03ea",
   "metadata": {},
   "outputs": [],
   "source": []
  }
 ],
 "metadata": {
  "kernelspec": {
   "display_name": "Python 3",
   "language": "python",
   "name": "python3"
  },
  "language_info": {
   "codemirror_mode": {
    "name": "ipython",
    "version": 3
   },
   "file_extension": ".py",
   "mimetype": "text/x-python",
   "name": "python",
   "nbconvert_exporter": "python",
   "pygments_lexer": "ipython3",
   "version": "3.7.2"
  },
  "toc": {
   "base_numbering": 1,
   "nav_menu": {},
   "number_sections": true,
   "sideBar": true,
   "skip_h1_title": false,
   "title_cell": "Table of Contents",
   "title_sidebar": "Contents",
   "toc_cell": false,
   "toc_position": {},
   "toc_section_display": true,
   "toc_window_display": false
  }
 },
 "nbformat": 4,
 "nbformat_minor": 5
}
