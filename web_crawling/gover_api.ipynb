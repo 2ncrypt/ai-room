{
 "cells": [
  {
   "cell_type": "code",
   "execution_count": 72,
   "id": "672f1813",
   "metadata": {},
   "outputs": [
    {
     "ename": "SyntaxError",
     "evalue": "unexpected EOF while parsing (<ipython-input-72-6938556aca02>, line 25)",
     "output_type": "error",
     "traceback": [
      "\u001b[0;36m  File \u001b[0;32m\"<ipython-input-72-6938556aca02>\"\u001b[0;36m, line \u001b[0;32m25\u001b[0m\n\u001b[0;31m    #     print(stationname.get_text(), pm10grade.get_text())\u001b[0m\n\u001b[0m                                                             ^\u001b[0m\n\u001b[0;31mSyntaxError\u001b[0m\u001b[0;31m:\u001b[0m unexpected EOF while parsing\n"
     ]
    }
   ],
   "source": [
    "import requests\n",
    "from bs4 import BeautifulSoup\n",
    "\n",
    "# serviceKey = 'S4BI3%2BaqwtYDYrTWb8fP7kMAbZb3jUiqZcVcujq1LJz4IDQp64d0%2FSZJtz29vTMLQOst3lO7%2FE4vGEFTdnnhqw%3D%3D'\n",
    "# ty = '&returnType=xml'\n",
    "# no = '&numOfRows=100'\n",
    "# pn = '&pageNo=1'\n",
    "# sn = '&sidoName=서울'\n",
    "# ver = '&ver=1.0'\n",
    "# open_api = 'http://apis.data.go.kr/B552584/ArpltnInforInqireSvc/getCtprvnRltmMesureDnsty?'+ty+no+pn+sn+ver\n",
    "s = '서울'\n",
    "res = requests.get('http://apis.data.go.kr/B552584/ArpltnInforInqireSvc/getCtprvnRltmMesureDnsty?serviceKey=S4BI3%2BaqwtYDYrTWb8fP7kMAbZb3jUiqZcVcujq1LJz4IDQp64d0%2FSZJtz29vTMLQOst3lO7%2FE4vGEFTdnnhqw%3D%3D&returnType=xml&numOfRows=100&pageNo=1&sidoName='+ s+'&ver=1.0')\n",
    "soup = BeautifulSoup(res.content, 'html.parser')\n",
    "\n",
    "# data= soup.find_all('item')\n",
    "data = soup.select('items.item')\n",
    "len(data)\n",
    "\n",
    "for item in data:\n",
    "    print(item.get_text()\n",
    "# for item in data:\n",
    "#     stationname = item.find('stationname')\n",
    "#     pm10grade = item.find('pm10grade')\n",
    "#     no2value = item.find('no2Value')\n",
    "#     print(stationname.get_text(), pm10grade.get_text())"
   ]
  },
  {
   "cell_type": "code",
   "execution_count": null,
   "id": "ad0ef5f7",
   "metadata": {},
   "outputs": [],
   "source": []
  }
 ],
 "metadata": {
  "kernelspec": {
   "display_name": "Python 3",
   "language": "python",
   "name": "python3"
  },
  "language_info": {
   "codemirror_mode": {
    "name": "ipython",
    "version": 3
   },
   "file_extension": ".py",
   "mimetype": "text/x-python",
   "name": "python",
   "nbconvert_exporter": "python",
   "pygments_lexer": "ipython3",
   "version": "3.7.2"
  },
  "toc": {
   "base_numbering": 1,
   "nav_menu": {},
   "number_sections": true,
   "sideBar": true,
   "skip_h1_title": false,
   "title_cell": "Table of Contents",
   "title_sidebar": "Contents",
   "toc_cell": false,
   "toc_position": {},
   "toc_section_display": true,
   "toc_window_display": false
  }
 },
 "nbformat": 4,
 "nbformat_minor": 5
}
