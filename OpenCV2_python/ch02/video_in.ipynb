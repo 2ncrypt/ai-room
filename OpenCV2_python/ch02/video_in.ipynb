{
  "cells": [
    {
      "cell_type": "code",
      "metadata": {},
      "source": [
        "import sys\n",
        "import cv2\n",
        "\n",
        "\n",
        "# \ube44\ub514\uc624 \ud30c\uc77c \uc5f4\uae30\n",
        "cap = cv2.VideoCapture('video1.mp4')\n",
        "\n",
        "if not cap.isOpened():\n",
        "    print(\"Video open failed!\")\n",
        "    sys.exit()\n",
        "\n",
        "# \ube44\ub514\uc624 \ud504\ub808\uc784 \ud06c\uae30, \uc804\uccb4 \ud504\ub808\uc784\uc218, FPS \ub4f1 \ucd9c\ub825\n",
        "print('Frame width:', int(cap.get(cv2.CAP_PROP_FRAME_WIDTH)))\n",
        "print('Frame height:', int(cap.get(cv2.CAP_PROP_FRAME_HEIGHT)))\n",
        "print('Frame count:', int(cap.get(cv2.CAP_PROP_FRAME_COUNT)))\n",
        "\n",
        "fps = cap.get(cv2.CAP_PROP_FPS)\n",
        "print('FPS:', fps)\n",
        "\n",
        "delay = round(1000 / fps)\n",
        "\n",
        "# \ube44\ub514\uc624 \ub9e4 \ud504\ub808\uc784 \ucc98\ub9ac\n",
        "while True:\n",
        "    ret, frame = cap.read()\n",
        "\n",
        "    if not ret:\n",
        "        break\n",
        "\n",
        "    inversed = ~frame  # \ubc18\uc804\n",
        "\n",
        "    cv2.imshow('frame', frame)\n",
        "    cv2.imshow('inversed', inversed)\n",
        "\n",
        "    if cv2.waitKey(delay) == 27:\n",
        "        break\n",
        "\n",
        "cap.release()\n",
        "cv2.destroyAllWindows()\n"
      ],
      "outputs": [],
      "execution_count": null
    }
  ],
  "metadata": {
    "anaconda-cloud": {},
    "kernelspec": {
      "display_name": "Python 3",
      "language": "python",
      "name": "python3"
    },
    "language_info": {
      "codemirror_mode": {
        "name": "ipython",
        "version": 3
      },
      "file_extension": ".py",
      "mimetype": "text/x-python",
      "name": "python",
      "nbconvert_exporter": "python",
      "pygments_lexer": "ipython3",
      "version": "3.6.1"
    }
  },
  "nbformat": 4,
  "nbformat_minor": 4
}