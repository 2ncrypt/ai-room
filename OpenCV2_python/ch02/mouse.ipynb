{
  "cells": [
    {
      "cell_type": "code",
      "metadata": {},
      "source": [
        "import sys\n",
        "import numpy as np\n",
        "import cv2\n",
        "\n",
        "\n",
        "oldx = oldy = -1\n",
        "\n",
        "def on_mouse(event, x, y, flags, param):\n",
        "    global oldx, oldy\n",
        "\n",
        "    if event == cv2.EVENT_LBUTTONDOWN:\n",
        "        oldx, oldy = x, y\n",
        "        print('EVENT_LBUTTONDOWN: %d, %d' % (x, y))\n",
        "\n",
        "    elif event == cv2.EVENT_LBUTTONUP:\n",
        "        print('EVENT_LBUTTONUP: %d, %d' % (x, y))\n",
        "\n",
        "    elif event == cv2.EVENT_MOUSEMOVE:\n",
        "        if flags & cv2.EVENT_FLAG_LBUTTON:\n",
        "            cv2.line(img, (oldx, oldy), (x, y), (0, 0, 255), 4, cv2.LINE_AA)\n",
        "            cv2.imshow('image', img)\n",
        "            oldx, oldy = x, y\n",
        "\n",
        "\n",
        "img = np.ones((480, 640, 3), dtype=np.uint8) * 255\n",
        "\n",
        "cv2.namedWindow('image')\n",
        "cv2.setMouseCallback('image', on_mouse, img)\n",
        "\n",
        "cv2.imshow('image', img)\n",
        "cv2.waitKey()\n",
        "\n",
        "cv2.destroyAllWindows()\n"
      ],
      "outputs": [],
      "execution_count": null
    }
  ],
  "metadata": {
    "anaconda-cloud": {},
    "kernelspec": {
      "display_name": "Python 3",
      "language": "python",
      "name": "python3"
    },
    "language_info": {
      "codemirror_mode": {
        "name": "ipython",
        "version": 3
      },
      "file_extension": ".py",
      "mimetype": "text/x-python",
      "name": "python",
      "nbconvert_exporter": "python",
      "pygments_lexer": "ipython3",
      "version": "3.6.1"
    }
  },
  "nbformat": 4,
  "nbformat_minor": 4
}