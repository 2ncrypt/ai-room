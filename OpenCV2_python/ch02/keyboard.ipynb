{
  "cells": [
    {
      "cell_type": "code",
      "metadata": {},
      "source": [
        "import sys\n",
        "import numpy as np\n",
        "import cv2\n",
        "\n",
        "\n",
        "img = cv2.imread('cat.bmp', cv2.IMREAD_GRAYSCALE)\n",
        "\n",
        "if img is None:\n",
        "    print('Image load failed!')\n",
        "    sys.exit()\n",
        "\n",
        "cv2.namedWindow('image')\n",
        "cv2.imshow('image', img)\n",
        "\n",
        "while True:\n",
        "    keycode = cv2.waitKey()\n",
        "    if keycode == ord('i') or keycode == ord('I'):\n",
        "        img = ~img\n",
        "        cv2.imshow('image', img)\n",
        "    elif keycode == 27:\n",
        "        break\n",
        "\n",
        "cv2.destroyAllWindows()\n"
      ],
      "outputs": [],
      "execution_count": null
    }
  ],
  "metadata": {
    "anaconda-cloud": {},
    "kernelspec": {
      "display_name": "Python 3",
      "language": "python",
      "name": "python3"
    },
    "language_info": {
      "codemirror_mode": {
        "name": "ipython",
        "version": 3
      },
      "file_extension": ".py",
      "mimetype": "text/x-python",
      "name": "python",
      "nbconvert_exporter": "python",
      "pygments_lexer": "ipython3",
      "version": "3.6.1"
    }
  },
  "nbformat": 4,
  "nbformat_minor": 4
}