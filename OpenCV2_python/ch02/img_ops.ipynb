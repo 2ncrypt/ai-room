{
  "cells": [
    {
      "cell_type": "code",
      "metadata": {},
      "source": [
        "\ufeffimport numpy as np\n",
        "import cv2\n",
        "\n",
        "\n",
        "# \uc0c8 \uc601\uc0c1 \uc0dd\uc131\ud558\uae30\n",
        "img1 = np.empty((240, 320), dtype=np.uint8)       # grayscale image\n",
        "img2 = np.zeros((240, 320, 3), dtype=np.uint8)    # color image\n",
        "img3 = np.ones((240, 320), dtype=np.uint8) * 255  # dark gray\n",
        "img4 = np.full((240, 320, 3), (0, 255, 255), dtype=np.uint8)  # yellow\n",
        "\n",
        "cv2.imshow('img1', img1)\n",
        "cv2.imshow('img2', img2)\n",
        "cv2.imshow('img3', img3)\n",
        "cv2.imshow('img4', img4)\n",
        "cv2.waitKey()\n",
        "cv2.destroyAllWindows()\n",
        "\n",
        "# \uc601\uc0c1 \ubcf5\uc0ac\n",
        "img1 = cv2.imread('HappyFish.jpg')\n",
        "\n",
        "img2 = img1\n",
        "img3 = img1.copy()\n",
        "\n",
        "#img1.fill(255)\n",
        "\n",
        "cv2.imshow('img1', img1)\n",
        "cv2.imshow('img2', img2)\n",
        "cv2.imshow('img3', img3)\n",
        "cv2.waitKey()\n",
        "cv2.destroyAllWindows()\n",
        "\n",
        "# \ubd80\ubd84 \uc601\uc0c1 \ucd94\ucd9c\n",
        "img1 = cv2.imread('HappyFish.jpg')\n",
        "\n",
        "img2 = img1[40:120, 30:150]  # numpy.ndarray\uc758 \uc2ac\ub77c\uc774\uc2f1\n",
        "img3 = img1[40:120, 30:150].copy()\n",
        "\n",
        "img2.fill(0)\n",
        "\n",
        "cv2.imshow('img1', img1)\n",
        "cv2.imshow('img2', img2)\n",
        "cv2.imshow('img3', img3)\n",
        "cv2.waitKey()\n",
        "cv2.destroyAllWindows()\n"
      ],
      "outputs": [],
      "execution_count": null
    }
  ],
  "metadata": {
    "anaconda-cloud": {},
    "kernelspec": {
      "display_name": "Python 3",
      "language": "python",
      "name": "python3"
    },
    "language_info": {
      "codemirror_mode": {
        "name": "ipython",
        "version": 3
      },
      "file_extension": ".py",
      "mimetype": "text/x-python",
      "name": "python",
      "nbconvert_exporter": "python",
      "pygments_lexer": "ipython3",
      "version": "3.6.1"
    }
  },
  "nbformat": 4,
  "nbformat_minor": 4
}