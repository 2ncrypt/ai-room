{
  "cells": [
    {
      "cell_type": "code",
      "metadata": {},
      "source": [
        "import sys\n",
        "import cv2\n",
        "\n",
        "\n",
        "# \ub9c8\uc2a4\ud06c \uc601\uc0c1\uc744 \uc774\uc6a9\ud55c \uc601\uc0c1 \ud569\uc131\n",
        "src = cv2.imread('airplane.bmp', cv2.IMREAD_COLOR)\n",
        "mask = cv2.imread('mask_plane.bmp', cv2.IMREAD_GRAYSCALE)\n",
        "dst = cv2.imread('field.bmp', cv2.IMREAD_COLOR)\n",
        "\n",
        "if src is None or mask is None or dst is None:\n",
        "    print('Image load failed!')\n",
        "    sys.exit()\n",
        "\n",
        "cv2.copyTo(src, mask, dst)\n",
        "# dst[mask > 0] = src[mask > 0]\n",
        "\n",
        "cv2.imshow('src', src)\n",
        "cv2.imshow('dst', dst)\n",
        "cv2.imshow('mask', mask)\n",
        "cv2.waitKey()\n",
        "cv2.destroyAllWindows()\n",
        "\n",
        "# \uc54c\ud30c \ucc44\ub110\uc744 \ub9c8\uc2a4\ud06c \uc601\uc0c1\uc73c\ub85c \uc774\uc6a9\n",
        "src = cv2.imread('cat.bmp', cv2.IMREAD_COLOR)\n",
        "logo = cv2.imread('opencv-logo-white.png', cv2.IMREAD_UNCHANGED)\n",
        "\n",
        "if src is None or logo is None:\n",
        "    print('Image load failed!')\n",
        "    sys.exit()\n",
        "\n",
        "mask = logo[:, :, 3]    # mask\ub294 \uc54c\ud30c \ucc44\ub110\ub85c \ub9cc\ub4e0 \ub9c8\uc2a4\ud06c \uc601\uc0c1\n",
        "logo = logo[:, :, :-1]  # logo\ub294 b, g, r 3\ucc44\ub110\ub85c \uad6c\uc131\ub41c \uceec\ub7ec \uc601\uc0c1\n",
        "h, w = mask.shape[:2]\n",
        "crop = src[10:10+h, 10:10+w]  # logo, mask\uc640 \uac19\uc740 \ud06c\uae30\uc758 \ubd80\ubd84 \uc601\uc0c1 \ucd94\ucd9c\n",
        "\n",
        "cv2.copyTo(logo, mask, crop)\n",
        "#crop[mask > 0] = logo[mask > 0]\n",
        "\n",
        "cv2.imshow('src', src)\n",
        "cv2.imshow('logo', logo)\n",
        "cv2.imshow('mask', mask)\n",
        "cv2.waitKey()\n",
        "cv2.destroyAllWindows()\n"
      ],
      "outputs": [],
      "execution_count": null
    }
  ],
  "metadata": {
    "anaconda-cloud": {},
    "kernelspec": {
      "display_name": "Python 3",
      "language": "python",
      "name": "python3"
    },
    "language_info": {
      "codemirror_mode": {
        "name": "ipython",
        "version": 3
      },
      "file_extension": ".py",
      "mimetype": "text/x-python",
      "name": "python",
      "nbconvert_exporter": "python",
      "pygments_lexer": "ipython3",
      "version": "3.6.1"
    }
  },
  "nbformat": 4,
  "nbformat_minor": 4
}