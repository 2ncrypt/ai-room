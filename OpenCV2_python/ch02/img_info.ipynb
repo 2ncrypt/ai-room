{
  "cells": [
    {
      "cell_type": "code",
      "metadata": {},
      "source": [
        "\ufeffimport sys\n",
        "import cv2\n",
        "\n",
        "\n",
        "# \uc601\uc0c1 \ubd88\ub7ec\uc624\uae30\n",
        "img1 = cv2.imread('cat.bmp', cv2.IMREAD_GRAYSCALE)\n",
        "img2 = cv2.imread('cat.bmp', cv2.IMREAD_COLOR)\n",
        "\n",
        "if img1 is None or img2 is None:\n",
        "    print('Image load failed!')\n",
        "    sys.exit()\n",
        "\n",
        "# \uc601\uc0c1\uc758 \uc18d\uc131 \ucc38\uc870\n",
        "print('type(img1):', type(img1))\n",
        "print('img1.shape:', img1.shape)\n",
        "print('img2.shape:', img2.shape)\n",
        "print('img1.dtype:', img1.dtype)\n",
        "\n",
        "# \uc601\uc0c1\uc758 \ud06c\uae30 \ucc38\uc870\n",
        "h, w = img2.shape[:2]\n",
        "print('img2 size: {} x {}'.format(w, h))\n",
        "\n",
        "if len(img1.shape) == 2:\n",
        "    print('img1 is a grayscale image')\n",
        "elif len(img1.shape) == 3:\n",
        "    print('img1 is a truecolor image')\n",
        "\n",
        "cv2.imshow('img1', img1)\n",
        "cv2.imshow('img2', img2)\n",
        "cv2.waitKey()\n",
        "\n",
        "# \uc601\uc0c1\uc758 \ud53d\uc140 \uac12 \ucc38\uc870\n",
        "for y in range(h):\n",
        "    for x in range(w):\n",
        "        img1[y, x] = 255\n",
        "        img2[y, x] = (0, 0, 255)        \n",
        "\n",
        "# img1[:,:] = 255\n",
        "# img2[:,:] = (0, 0, 255)\n",
        "\n",
        "cv2.imshow('img1', img1)\n",
        "cv2.imshow('img2', img2)\n",
        "cv2.waitKey()\n",
        "\n",
        "cv2.destroyAllWindows()\n"
      ],
      "outputs": [],
      "execution_count": null
    }
  ],
  "metadata": {
    "anaconda-cloud": {},
    "kernelspec": {
      "display_name": "Python 3",
      "language": "python",
      "name": "python3"
    },
    "language_info": {
      "codemirror_mode": {
        "name": "ipython",
        "version": 3
      },
      "file_extension": ".py",
      "mimetype": "text/x-python",
      "name": "python",
      "nbconvert_exporter": "python",
      "pygments_lexer": "ipython3",
      "version": "3.6.1"
    }
  },
  "nbformat": 4,
  "nbformat_minor": 4
}