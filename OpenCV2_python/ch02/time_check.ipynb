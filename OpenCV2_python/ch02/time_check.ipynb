{
  "cells": [
    {
      "cell_type": "code",
      "metadata": {},
      "source": [
        "import sys\n",
        "import time\n",
        "import numpy as np\n",
        "import cv2\n",
        "\n",
        "\n",
        "img = cv2.imread('hongkong.jpg')\n",
        "\n",
        "tm = cv2.TickMeter()\n",
        "\n",
        "tm.reset()\n",
        "tm.start()\n",
        "t1 = time.time()\n",
        "\n",
        "edge = cv2.Canny(img, 50, 150)\n",
        "\n",
        "tm.stop()\n",
        "print('time:', (time.time() - t1) * 1000)\n",
        "print('Elapsed time: {}ms.'.format(tm.getTimeMilli()))\n",
        "\n"
      ],
      "outputs": [],
      "execution_count": null
    }
  ],
  "metadata": {
    "anaconda-cloud": {},
    "kernelspec": {
      "display_name": "Python 3",
      "language": "python",
      "name": "python3"
    },
    "language_info": {
      "codemirror_mode": {
        "name": "ipython",
        "version": 3
      },
      "file_extension": ".py",
      "mimetype": "text/x-python",
      "name": "python",
      "nbconvert_exporter": "python",
      "pygments_lexer": "ipython3",
      "version": "3.6.1"
    }
  },
  "nbformat": 4,
  "nbformat_minor": 4
}